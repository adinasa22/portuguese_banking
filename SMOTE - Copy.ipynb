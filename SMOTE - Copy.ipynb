{
 "cells": [
  {
   "cell_type": "code",
   "execution_count": 1,
   "metadata": {},
   "outputs": [],
   "source": [
    "import pandas as pd\n",
    "import numpy as np\n",
    "import seaborn as sns\n",
    "import matplotlib.pyplot as plt\n",
    "%matplotlib inline"
   ]
  },
  {
   "cell_type": "code",
   "execution_count": 2,
   "metadata": {
    "scrolled": false
   },
   "outputs": [],
   "source": [
    "#pip install imblearn"
   ]
  },
  {
   "cell_type": "code",
   "execution_count": 3,
   "metadata": {},
   "outputs": [],
   "source": [
    "df = pd.read_csv('bank.csv', sep=';')"
   ]
  },
  {
   "cell_type": "code",
   "execution_count": 4,
   "metadata": {
    "scrolled": true
   },
   "outputs": [
    {
     "data": {
      "text/html": [
       "<div>\n",
       "<style scoped>\n",
       "    .dataframe tbody tr th:only-of-type {\n",
       "        vertical-align: middle;\n",
       "    }\n",
       "\n",
       "    .dataframe tbody tr th {\n",
       "        vertical-align: top;\n",
       "    }\n",
       "\n",
       "    .dataframe thead th {\n",
       "        text-align: right;\n",
       "    }\n",
       "</style>\n",
       "<table border=\"1\" class=\"dataframe\">\n",
       "  <thead>\n",
       "    <tr style=\"text-align: right;\">\n",
       "      <th></th>\n",
       "      <th>age</th>\n",
       "      <th>job</th>\n",
       "      <th>marital</th>\n",
       "      <th>education</th>\n",
       "      <th>default</th>\n",
       "      <th>balance</th>\n",
       "      <th>housing</th>\n",
       "      <th>loan</th>\n",
       "      <th>contact</th>\n",
       "      <th>day</th>\n",
       "      <th>month</th>\n",
       "      <th>duration</th>\n",
       "      <th>campaign</th>\n",
       "      <th>pdays</th>\n",
       "      <th>previous</th>\n",
       "      <th>poutcome</th>\n",
       "      <th>y</th>\n",
       "    </tr>\n",
       "  </thead>\n",
       "  <tbody>\n",
       "    <tr>\n",
       "      <th>0</th>\n",
       "      <td>58</td>\n",
       "      <td>management</td>\n",
       "      <td>married</td>\n",
       "      <td>tertiary</td>\n",
       "      <td>no</td>\n",
       "      <td>2143</td>\n",
       "      <td>yes</td>\n",
       "      <td>no</td>\n",
       "      <td>unknown</td>\n",
       "      <td>5</td>\n",
       "      <td>may</td>\n",
       "      <td>261</td>\n",
       "      <td>1</td>\n",
       "      <td>-1</td>\n",
       "      <td>0</td>\n",
       "      <td>unknown</td>\n",
       "      <td>no</td>\n",
       "    </tr>\n",
       "    <tr>\n",
       "      <th>1</th>\n",
       "      <td>44</td>\n",
       "      <td>technician</td>\n",
       "      <td>single</td>\n",
       "      <td>secondary</td>\n",
       "      <td>no</td>\n",
       "      <td>29</td>\n",
       "      <td>yes</td>\n",
       "      <td>no</td>\n",
       "      <td>unknown</td>\n",
       "      <td>5</td>\n",
       "      <td>may</td>\n",
       "      <td>151</td>\n",
       "      <td>1</td>\n",
       "      <td>-1</td>\n",
       "      <td>0</td>\n",
       "      <td>unknown</td>\n",
       "      <td>no</td>\n",
       "    </tr>\n",
       "    <tr>\n",
       "      <th>2</th>\n",
       "      <td>33</td>\n",
       "      <td>entrepreneur</td>\n",
       "      <td>married</td>\n",
       "      <td>secondary</td>\n",
       "      <td>no</td>\n",
       "      <td>2</td>\n",
       "      <td>yes</td>\n",
       "      <td>yes</td>\n",
       "      <td>unknown</td>\n",
       "      <td>5</td>\n",
       "      <td>may</td>\n",
       "      <td>76</td>\n",
       "      <td>1</td>\n",
       "      <td>-1</td>\n",
       "      <td>0</td>\n",
       "      <td>unknown</td>\n",
       "      <td>no</td>\n",
       "    </tr>\n",
       "    <tr>\n",
       "      <th>3</th>\n",
       "      <td>47</td>\n",
       "      <td>blue-collar</td>\n",
       "      <td>married</td>\n",
       "      <td>unknown</td>\n",
       "      <td>no</td>\n",
       "      <td>1506</td>\n",
       "      <td>yes</td>\n",
       "      <td>no</td>\n",
       "      <td>unknown</td>\n",
       "      <td>5</td>\n",
       "      <td>may</td>\n",
       "      <td>92</td>\n",
       "      <td>1</td>\n",
       "      <td>-1</td>\n",
       "      <td>0</td>\n",
       "      <td>unknown</td>\n",
       "      <td>no</td>\n",
       "    </tr>\n",
       "    <tr>\n",
       "      <th>4</th>\n",
       "      <td>33</td>\n",
       "      <td>unknown</td>\n",
       "      <td>single</td>\n",
       "      <td>unknown</td>\n",
       "      <td>no</td>\n",
       "      <td>1</td>\n",
       "      <td>no</td>\n",
       "      <td>no</td>\n",
       "      <td>unknown</td>\n",
       "      <td>5</td>\n",
       "      <td>may</td>\n",
       "      <td>198</td>\n",
       "      <td>1</td>\n",
       "      <td>-1</td>\n",
       "      <td>0</td>\n",
       "      <td>unknown</td>\n",
       "      <td>no</td>\n",
       "    </tr>\n",
       "  </tbody>\n",
       "</table>\n",
       "</div>"
      ],
      "text/plain": [
       "   age           job  marital  education default  balance housing loan  \\\n",
       "0   58    management  married   tertiary      no     2143     yes   no   \n",
       "1   44    technician   single  secondary      no       29     yes   no   \n",
       "2   33  entrepreneur  married  secondary      no        2     yes  yes   \n",
       "3   47   blue-collar  married    unknown      no     1506     yes   no   \n",
       "4   33       unknown   single    unknown      no        1      no   no   \n",
       "\n",
       "   contact  day month  duration  campaign  pdays  previous poutcome   y  \n",
       "0  unknown    5   may       261         1     -1         0  unknown  no  \n",
       "1  unknown    5   may       151         1     -1         0  unknown  no  \n",
       "2  unknown    5   may        76         1     -1         0  unknown  no  \n",
       "3  unknown    5   may        92         1     -1         0  unknown  no  \n",
       "4  unknown    5   may       198         1     -1         0  unknown  no  "
      ]
     },
     "execution_count": 4,
     "metadata": {},
     "output_type": "execute_result"
    }
   ],
   "source": [
    "df.head()"
   ]
  },
  {
   "cell_type": "code",
   "execution_count": 5,
   "metadata": {},
   "outputs": [
    {
     "data": {
      "image/png": "[encoded data removed]",
      "text/plain": [
       "<Figure size 432x288 with 1 Axes>"
      ]
     },
     "metadata": {
      "needs_background": "light"
     },
     "output_type": "display_data"
    },
    {
     "data": {
      "image/png": "[encoded data removed]",
      "text/plain": [
       "<Figure size 432x288 with 1 Axes>"
      ]
     },
     "metadata": {
      "needs_background": "light"
     },
     "output_type": "display_data"
    },
    {
     "data": {
      "image/png": "[encoded data removed]",
      "text/plain": [
       "<Figure size 432x288 with 1 Axes>"
      ]
     },
     "metadata": {
      "needs_background": "light"
     },
     "output_type": "display_data"
    },
    {
     "data": {
      "image/png": "[encoded data removed]",
      "text/plain": [
       "<Figure size 432x288 with 1 Axes>"
      ]
     },
     "metadata": {
      "needs_background": "light"
     },
     "output_type": "display_data"
    },
    {
     "data": {
      "image/png": "[encoded data removed]",
      "text/plain": [
       "<Figure size 432x288 with 1 Axes>"
      ]
     },
     "metadata": {
      "needs_background": "light"
     },
     "output_type": "display_data"
    },
    {
     "data": {
      "image/png": "[encoded data removed]",
      "text/plain": [
       "<Figure size 432x288 with 1 Axes>"
      ]
     },
     "metadata": {
      "needs_background": "light"
     },
     "output_type": "display_data"
    },
    {
     "data": {
      "image/png": "[encoded data removed]",
      "text/plain": [
       "<Figure size 432x288 with 1 Axes>"
      ]
     },
     "metadata": {
      "needs_background": "light"
     },
     "output_type": "display_data"
    },
    {
     "data": {
      "image/png": "[encoded data removed]",
      "text/plain": [
       "<Figure size 432x288 with 1 Axes>"
      ]
     },
     "metadata": {
      "needs_background": "light"
     },
     "output_type": "display_data"
    },
    {
     "data": {
      "image/png": "[encoded data removed]",
      "text/plain": [
       "<Figure size 432x288 with 1 Axes>"
      ]
     },
     "metadata": {
      "needs_background": "light"
     },
     "output_type": "display_data"
    },
    {
     "data": {
      "image/png": "[encoded data removed]",
      "text/plain": [
       "<Figure size 432x288 with 1 Axes>"
      ]
     },
     "metadata": {
      "needs_background": "light"
     },
     "output_type": "display_data"
    }
   ],
   "source": [
    "cat_cols = [x for x in df.columns if df[x].dtypes=='O']\n",
    "\n",
    "for x in cat_cols:\n",
    "    sns.countplot(x=x, data=df, hue='y', order=df[x].value_counts().index)\n",
    "    plt.xticks(rotation=90);\n",
    "    plt.show()"
   ]
  },
  {
   "cell_type": "code",
   "execution_count": 6,
   "metadata": {},
   "outputs": [
    {
     "data": {
      "image/png": "[encoded data removed]",
      "text/plain": [
       "<Figure size 432x288 with 1 Axes>"
      ]
     },
     "metadata": {
      "needs_background": "light"
     },
     "output_type": "display_data"
    },
    {
     "data": {
      "image/png": "[encoded data removed]",
      "text/plain": [
       "<Figure size 432x288 with 1 Axes>"
      ]
     },
     "metadata": {
      "needs_background": "light"
     },
     "output_type": "display_data"
    },
    {
     "data": {
      "image/png": "[encoded data removed]",
      "text/plain": [
       "<Figure size 432x288 with 1 Axes>"
      ]
     },
     "metadata": {
      "needs_background": "light"
     },
     "output_type": "display_data"
    },
    {
     "data": {
      "image/png": "[encoded data removed]",
      "text/plain": [
       "<Figure size 432x288 with 1 Axes>"
      ]
     },
     "metadata": {
      "needs_background": "light"
     },
     "output_type": "display_data"
    },
    {
     "data": {
      "image/png": "[encoded data removed]",
      "text/plain": [
       "<Figure size 432x288 with 1 Axes>"
      ]
     },
     "metadata": {
      "needs_background": "light"
     },
     "output_type": "display_data"
    },
    {
     "data": {
      "image/png": "[encoded data removed]",
      "text/plain": [
       "<Figure size 432x288 with 1 Axes>"
      ]
     },
     "metadata": {
      "needs_background": "light"
     },
     "output_type": "display_data"
    },
    {
     "data": {
      "image/png": "[encoded data removed]",
      "text/plain": [
       "<Figure size 432x288 with 1 Axes>"
      ]
     },
     "metadata": {
      "needs_background": "light"
     },
     "output_type": "display_data"
    }
   ],
   "source": [
    "num_cols = [x for x in df.columns if df[x].dtypes!='O']\n",
    "\n",
    "for x in num_cols:\n",
    "    plt.hist(x=x, data=df)\n",
    "    plt.xticks(rotation=90);\n",
    "    plt.show()"
   ]
  },
  {
   "cell_type": "code",
   "execution_count": 7,
   "metadata": {},
   "outputs": [
    {
     "data": {
      "text/plain": [
       "<AxesSubplot:xlabel='marital', ylabel='count'>"
      ]
     },
     "execution_count": 7,
     "metadata": {},
     "output_type": "execute_result"
    },
    {
     "data": {
      "image/png": "[encoded data removed]",
      "text/plain": [
       "<Figure size 432x288 with 1 Axes>"
      ]
     },
     "metadata": {
      "needs_background": "light"
     },
     "output_type": "display_data"
    }
   ],
   "source": [
    "sns.countplot(x='marital', data=df, order=df['marital'].value_counts().index)"
   ]
  },
  {
   "cell_type": "code",
   "execution_count": 8,
   "metadata": {},
   "outputs": [
    {
     "data": {
      "image/png": "[encoded data removed]",
      "text/plain": [
       "<Figure size 432x288 with 1 Axes>"
      ]
     },
     "metadata": {
      "needs_background": "light"
     },
     "output_type": "display_data"
    }
   ],
   "source": [
    "sns.countplot(x='education', data=df, order=df['education'].value_counts().index)\n",
    "plt.xticks(rotation=90);"
   ]
  },
  {
   "cell_type": "code",
   "execution_count": 9,
   "metadata": {},
   "outputs": [
    {
     "data": {
      "image/png": "[encoded data removed]",
      "text/plain": [
       "<Figure size 432x288 with 1 Axes>"
      ]
     },
     "metadata": {
      "needs_background": "light"
     },
     "output_type": "display_data"
    }
   ],
   "source": [
    "sns.countplot(x='job', data=df, order=df['job'].value_counts().index)\n",
    "plt.xticks(rotation=90);"
   ]
  },
  {
   "cell_type": "code",
   "execution_count": 10,
   "metadata": {},
   "outputs": [
    {
     "data": {
      "text/plain": [
       "<AxesSubplot:>"
      ]
     },
     "execution_count": 10,
     "metadata": {},
     "output_type": "execute_result"
    },
    {
     "data": {
      "image/png": "[encoded data removed]",
      "text/plain": [
       "<Figure size 432x288 with 1 Axes>"
      ]
     },
     "metadata": {
      "needs_background": "light"
     },
     "output_type": "display_data"
    }
   ],
   "source": [
    "sns.boxplot(data=df)"
   ]
  },
  {
   "cell_type": "code",
   "execution_count": 11,
   "metadata": {},
   "outputs": [
    {
     "data": {
      "text/plain": [
       "(45211, 17)"
      ]
     },
     "execution_count": 11,
     "metadata": {},
     "output_type": "execute_result"
    }
   ],
   "source": [
    "df.shape"
   ]
  },
  {
   "cell_type": "code",
   "execution_count": 12,
   "metadata": {},
   "outputs": [
    {
     "data": {
      "text/plain": [
       "age           int64\n",
       "job          object\n",
       "marital      object\n",
       "education    object\n",
       "default      object\n",
       "balance       int64\n",
       "housing      object\n",
       "loan         object\n",
       "contact      object\n",
       "day           int64\n",
       "month        object\n",
       "duration      int64\n",
       "campaign      int64\n",
       "pdays         int64\n",
       "previous      int64\n",
       "poutcome     object\n",
       "y            object\n",
       "dtype: object"
      ]
     },
     "execution_count": 12,
     "metadata": {},
     "output_type": "execute_result"
    }
   ],
   "source": [
    "df.dtypes"
   ]
  },
  {
   "cell_type": "code",
   "execution_count": 13,
   "metadata": {},
   "outputs": [
    {
     "name": "stdout",
     "output_type": "stream",
     "text": [
      "<class 'pandas.core.frame.DataFrame'>\n",
      "RangeIndex: 45211 entries, 0 to 45210\n",
      "Data columns (total 17 columns):\n",
      " #   Column     Non-Null Count  Dtype \n",
      "---  ------     --------------  ----- \n",
      " 0   age        45211 non-null  int64 \n",
      " 1   job        45211 non-null  object\n",
      " 2   marital    45211 non-null  object\n",
      " 3   education  45211 non-null  object\n",
      " 4   default    45211 non-null  object\n",
      " 5   balance    45211 non-null  int64 \n",
      " 6   housing    45211 non-null  object\n",
      " 7   loan       45211 non-null  object\n",
      " 8   contact    45211 non-null  object\n",
      " 9   day        45211 non-null  int64 \n",
      " 10  month      45211 non-null  object\n",
      " 11  duration   45211 non-null  int64 \n",
      " 12  campaign   45211 non-null  int64 \n",
      " 13  pdays      45211 non-null  int64 \n",
      " 14  previous   45211 non-null  int64 \n",
      " 15  poutcome   45211 non-null  object\n",
      " 16  y          45211 non-null  object\n",
      "dtypes: int64(7), object(10)\n",
      "memory usage: 5.9+ MB\n"
     ]
    }
   ],
   "source": [
    "df.info()"
   ]
  },
  {
   "cell_type": "code",
   "execution_count": 14,
   "metadata": {},
   "outputs": [
    {
     "data": {
      "text/html": [
       "<div>\n",
       "<style scoped>\n",
       "    .dataframe tbody tr th:only-of-type {\n",
       "        vertical-align: middle;\n",
       "    }\n",
       "\n",
       "    .dataframe tbody tr th {\n",
       "        vertical-align: top;\n",
       "    }\n",
       "\n",
       "    .dataframe thead th {\n",
       "        text-align: right;\n",
       "    }\n",
       "</style>\n",
       "<table border=\"1\" class=\"dataframe\">\n",
       "  <thead>\n",
       "    <tr style=\"text-align: right;\">\n",
       "      <th></th>\n",
       "      <th>age</th>\n",
       "      <th>balance</th>\n",
       "      <th>day</th>\n",
       "      <th>duration</th>\n",
       "      <th>campaign</th>\n",
       "      <th>pdays</th>\n",
       "      <th>previous</th>\n",
       "    </tr>\n",
       "  </thead>\n",
       "  <tbody>\n",
       "    <tr>\n",
       "      <th>count</th>\n",
       "      <td>45211.000000</td>\n",
       "      <td>45211.000000</td>\n",
       "      <td>45211.000000</td>\n",
       "      <td>45211.000000</td>\n",
       "      <td>45211.000000</td>\n",
       "      <td>45211.000000</td>\n",
       "      <td>45211.000000</td>\n",
       "    </tr>\n",
       "    <tr>\n",
       "      <th>mean</th>\n",
       "      <td>40.936210</td>\n",
       "      <td>1362.272058</td>\n",
       "      <td>15.806419</td>\n",
       "      <td>258.163080</td>\n",
       "      <td>2.763841</td>\n",
       "      <td>40.197828</td>\n",
       "      <td>0.580323</td>\n",
       "    </tr>\n",
       "    <tr>\n",
       "      <th>std</th>\n",
       "      <td>10.618762</td>\n",
       "      <td>3044.765829</td>\n",
       "      <td>8.322476</td>\n",
       "      <td>257.527812</td>\n",
       "      <td>3.098021</td>\n",
       "      <td>100.128746</td>\n",
       "      <td>2.303441</td>\n",
       "    </tr>\n",
       "    <tr>\n",
       "      <th>min</th>\n",
       "      <td>18.000000</td>\n",
       "      <td>-8019.000000</td>\n",
       "      <td>1.000000</td>\n",
       "      <td>0.000000</td>\n",
       "      <td>1.000000</td>\n",
       "      <td>-1.000000</td>\n",
       "      <td>0.000000</td>\n",
       "    </tr>\n",
       "    <tr>\n",
       "      <th>25%</th>\n",
       "      <td>33.000000</td>\n",
       "      <td>72.000000</td>\n",
       "      <td>8.000000</td>\n",
       "      <td>103.000000</td>\n",
       "      <td>1.000000</td>\n",
       "      <td>-1.000000</td>\n",
       "      <td>0.000000</td>\n",
       "    </tr>\n",
       "    <tr>\n",
       "      <th>50%</th>\n",
       "      <td>39.000000</td>\n",
       "      <td>448.000000</td>\n",
       "      <td>16.000000</td>\n",
       "      <td>180.000000</td>\n",
       "      <td>2.000000</td>\n",
       "      <td>-1.000000</td>\n",
       "      <td>0.000000</td>\n",
       "    </tr>\n",
       "    <tr>\n",
       "      <th>75%</th>\n",
       "      <td>48.000000</td>\n",
       "      <td>1428.000000</td>\n",
       "      <td>21.000000</td>\n",
       "      <td>319.000000</td>\n",
       "      <td>3.000000</td>\n",
       "      <td>-1.000000</td>\n",
       "      <td>0.000000</td>\n",
       "    </tr>\n",
       "    <tr>\n",
       "      <th>max</th>\n",
       "      <td>95.000000</td>\n",
       "      <td>102127.000000</td>\n",
       "      <td>31.000000</td>\n",
       "      <td>4918.000000</td>\n",
       "      <td>63.000000</td>\n",
       "      <td>871.000000</td>\n",
       "      <td>275.000000</td>\n",
       "    </tr>\n",
       "  </tbody>\n",
       "</table>\n",
       "</div>"
      ],
      "text/plain": [
       "                age        balance           day      duration      campaign  \\\n",
       "count  45211.000000   45211.000000  45211.000000  45211.000000  45211.000000   \n",
       "mean      40.936210    1362.272058     15.806419    258.163080      2.763841   \n",
       "std       10.618762    3044.765829      8.322476    257.527812      3.098021   \n",
       "min       18.000000   -8019.000000      1.000000      0.000000      1.000000   \n",
       "25%       33.000000      72.000000      8.000000    103.000000      1.000000   \n",
       "50%       39.000000     448.000000     16.000000    180.000000      2.000000   \n",
       "75%       48.000000    1428.000000     21.000000    319.000000      3.000000   \n",
       "max       95.000000  102127.000000     31.000000   4918.000000     63.000000   \n",
       "\n",
       "              pdays      previous  \n",
       "count  45211.000000  45211.000000  \n",
       "mean      40.197828      0.580323  \n",
       "std      100.128746      2.303441  \n",
       "min       -1.000000      0.000000  \n",
       "25%       -1.000000      0.000000  \n",
       "50%       -1.000000      0.000000  \n",
       "75%       -1.000000      0.000000  \n",
       "max      871.000000    275.000000  "
      ]
     },
     "execution_count": 14,
     "metadata": {},
     "output_type": "execute_result"
    }
   ],
   "source": [
    "df.describe()"
   ]
  },
  {
   "cell_type": "code",
   "execution_count": 15,
   "metadata": {},
   "outputs": [
    {
     "data": {
      "text/html": [
       "<div>\n",
       "<style scoped>\n",
       "    .dataframe tbody tr th:only-of-type {\n",
       "        vertical-align: middle;\n",
       "    }\n",
       "\n",
       "    .dataframe tbody tr th {\n",
       "        vertical-align: top;\n",
       "    }\n",
       "\n",
       "    .dataframe thead th {\n",
       "        text-align: right;\n",
       "    }\n",
       "</style>\n",
       "<table border=\"1\" class=\"dataframe\">\n",
       "  <thead>\n",
       "    <tr style=\"text-align: right;\">\n",
       "      <th></th>\n",
       "      <th>age</th>\n",
       "      <th>balance</th>\n",
       "      <th>day</th>\n",
       "      <th>duration</th>\n",
       "      <th>campaign</th>\n",
       "      <th>pdays</th>\n",
       "      <th>previous</th>\n",
       "    </tr>\n",
       "  </thead>\n",
       "  <tbody>\n",
       "    <tr>\n",
       "      <th>age</th>\n",
       "      <td>1.000000</td>\n",
       "      <td>0.097783</td>\n",
       "      <td>-0.009120</td>\n",
       "      <td>-0.004648</td>\n",
       "      <td>0.004760</td>\n",
       "      <td>-0.023758</td>\n",
       "      <td>0.001288</td>\n",
       "    </tr>\n",
       "    <tr>\n",
       "      <th>balance</th>\n",
       "      <td>0.097783</td>\n",
       "      <td>1.000000</td>\n",
       "      <td>0.004503</td>\n",
       "      <td>0.021560</td>\n",
       "      <td>-0.014578</td>\n",
       "      <td>0.003435</td>\n",
       "      <td>0.016674</td>\n",
       "    </tr>\n",
       "    <tr>\n",
       "      <th>day</th>\n",
       "      <td>-0.009120</td>\n",
       "      <td>0.004503</td>\n",
       "      <td>1.000000</td>\n",
       "      <td>-0.030206</td>\n",
       "      <td>0.162490</td>\n",
       "      <td>-0.093044</td>\n",
       "      <td>-0.051710</td>\n",
       "    </tr>\n",
       "    <tr>\n",
       "      <th>duration</th>\n",
       "      <td>-0.004648</td>\n",
       "      <td>0.021560</td>\n",
       "      <td>-0.030206</td>\n",
       "      <td>1.000000</td>\n",
       "      <td>-0.084570</td>\n",
       "      <td>-0.001565</td>\n",
       "      <td>0.001203</td>\n",
       "    </tr>\n",
       "    <tr>\n",
       "      <th>campaign</th>\n",
       "      <td>0.004760</td>\n",
       "      <td>-0.014578</td>\n",
       "      <td>0.162490</td>\n",
       "      <td>-0.084570</td>\n",
       "      <td>1.000000</td>\n",
       "      <td>-0.088628</td>\n",
       "      <td>-0.032855</td>\n",
       "    </tr>\n",
       "    <tr>\n",
       "      <th>pdays</th>\n",
       "      <td>-0.023758</td>\n",
       "      <td>0.003435</td>\n",
       "      <td>-0.093044</td>\n",
       "      <td>-0.001565</td>\n",
       "      <td>-0.088628</td>\n",
       "      <td>1.000000</td>\n",
       "      <td>0.454820</td>\n",
       "    </tr>\n",
       "    <tr>\n",
       "      <th>previous</th>\n",
       "      <td>0.001288</td>\n",
       "      <td>0.016674</td>\n",
       "      <td>-0.051710</td>\n",
       "      <td>0.001203</td>\n",
       "      <td>-0.032855</td>\n",
       "      <td>0.454820</td>\n",
       "      <td>1.000000</td>\n",
       "    </tr>\n",
       "  </tbody>\n",
       "</table>\n",
       "</div>"
      ],
      "text/plain": [
       "               age   balance       day  duration  campaign     pdays  previous\n",
       "age       1.000000  0.097783 -0.009120 -0.004648  0.004760 -0.023758  0.001288\n",
       "balance   0.097783  1.000000  0.004503  0.021560 -0.014578  0.003435  0.016674\n",
       "day      -0.009120  0.004503  1.000000 -0.030206  0.162490 -0.093044 -0.051710\n",
       "duration -0.004648  0.021560 -0.030206  1.000000 -0.084570 -0.001565  0.001203\n",
       "campaign  0.004760 -0.014578  0.162490 -0.084570  1.000000 -0.088628 -0.032855\n",
       "pdays    -0.023758  0.003435 -0.093044 -0.001565 -0.088628  1.000000  0.454820\n",
       "previous  0.001288  0.016674 -0.051710  0.001203 -0.032855  0.454820  1.000000"
      ]
     },
     "execution_count": 15,
     "metadata": {},
     "output_type": "execute_result"
    }
   ],
   "source": [
    "df.corr()"
   ]
  },
  {
   "cell_type": "code",
   "execution_count": 16,
   "metadata": {
    "scrolled": true
   },
   "outputs": [
    {
     "data": {
      "text/plain": [
       "<AxesSubplot:>"
      ]
     },
     "execution_count": 16,
     "metadata": {},
     "output_type": "execute_result"
    },
    {
     "data": {
      "image/png": "[encoded data removed]",
      "text/plain": [
       "<Figure size 432x288 with 2 Axes>"
      ]
     },
     "metadata": {
      "needs_background": "light"
     },
     "output_type": "display_data"
    }
   ],
   "source": [
    "sns.heatmap(df.corr(), cmap='cool', annot=True, linewidth=0.75)"
   ]
  },
  {
   "cell_type": "code",
   "execution_count": 17,
   "metadata": {},
   "outputs": [],
   "source": [
    "df['pdays_new'] = np.where(df['pdays'] == -1, 'y', 'n')"
   ]
  },
  {
   "cell_type": "code",
   "execution_count": 18,
   "metadata": {},
   "outputs": [],
   "source": [
    "df['pdays'] = np.where(df['pdays'] == -1, 0, df['pdays'])"
   ]
  },
  {
   "cell_type": "code",
   "execution_count": null,
   "metadata": {},
   "outputs": [],
   "source": []
  },
  {
   "cell_type": "code",
   "execution_count": 19,
   "metadata": {},
   "outputs": [],
   "source": [
    "from statsmodels.stats.outliers_influence import variance_inflation_factor\n",
    "\n",
    "def calc_vif(X):\n",
    "\n",
    "    # Calculating VIF\n",
    "    vif = pd.DataFrame()\n",
    "    vif[\"variables\"] = X.columns\n",
    "    vif[\"VIF\"] = [variance_inflation_factor(X.values, i) for i in range(X.shape[1])]\n",
    "\n",
    "    return(vif)"
   ]
  },
  {
   "cell_type": "code",
   "execution_count": 20,
   "metadata": {},
   "outputs": [
    {
     "data": {
      "text/html": [
       "<div>\n",
       "<style scoped>\n",
       "    .dataframe tbody tr th:only-of-type {\n",
       "        vertical-align: middle;\n",
       "    }\n",
       "\n",
       "    .dataframe tbody tr th {\n",
       "        vertical-align: top;\n",
       "    }\n",
       "\n",
       "    .dataframe thead th {\n",
       "        text-align: right;\n",
       "    }\n",
       "</style>\n",
       "<table border=\"1\" class=\"dataframe\">\n",
       "  <thead>\n",
       "    <tr style=\"text-align: right;\">\n",
       "      <th></th>\n",
       "      <th>variables</th>\n",
       "      <th>VIF</th>\n",
       "    </tr>\n",
       "  </thead>\n",
       "  <tbody>\n",
       "    <tr>\n",
       "      <th>0</th>\n",
       "      <td>age</td>\n",
       "      <td>5.009320</td>\n",
       "    </tr>\n",
       "    <tr>\n",
       "      <th>1</th>\n",
       "      <td>balance</td>\n",
       "      <td>1.212909</td>\n",
       "    </tr>\n",
       "    <tr>\n",
       "      <th>2</th>\n",
       "      <td>day</td>\n",
       "      <td>3.984172</td>\n",
       "    </tr>\n",
       "    <tr>\n",
       "      <th>3</th>\n",
       "      <td>duration</td>\n",
       "      <td>1.901362</td>\n",
       "    </tr>\n",
       "    <tr>\n",
       "      <th>4</th>\n",
       "      <td>campaign</td>\n",
       "      <td>1.824599</td>\n",
       "    </tr>\n",
       "    <tr>\n",
       "      <th>5</th>\n",
       "      <td>previous</td>\n",
       "      <td>1.340844</td>\n",
       "    </tr>\n",
       "    <tr>\n",
       "      <th>6</th>\n",
       "      <td>pdays</td>\n",
       "      <td>1.462040</td>\n",
       "    </tr>\n",
       "  </tbody>\n",
       "</table>\n",
       "</div>"
      ],
      "text/plain": [
       "  variables       VIF\n",
       "0       age  5.009320\n",
       "1   balance  1.212909\n",
       "2       day  3.984172\n",
       "3  duration  1.901362\n",
       "4  campaign  1.824599\n",
       "5  previous  1.340844\n",
       "6     pdays  1.462040"
      ]
     },
     "execution_count": 20,
     "metadata": {},
     "output_type": "execute_result"
    }
   ],
   "source": [
    "X_vif = df[['age','balance','day','duration','campaign','previous','pdays']]\n",
    "calc_vif(X_vif)"
   ]
  },
  {
   "cell_type": "code",
   "execution_count": null,
   "metadata": {},
   "outputs": [],
   "source": []
  },
  {
   "cell_type": "code",
   "execution_count": 21,
   "metadata": {
    "scrolled": true
   },
   "outputs": [
    {
     "data": {
      "text/plain": [
       "age          0\n",
       "job          0\n",
       "marital      0\n",
       "education    0\n",
       "default      0\n",
       "balance      0\n",
       "housing      0\n",
       "loan         0\n",
       "contact      0\n",
       "day          0\n",
       "month        0\n",
       "duration     0\n",
       "campaign     0\n",
       "pdays        0\n",
       "previous     0\n",
       "poutcome     0\n",
       "y            0\n",
       "pdays_new    0\n",
       "dtype: int64"
      ]
     },
     "execution_count": 21,
     "metadata": {},
     "output_type": "execute_result"
    }
   ],
   "source": [
    "df.isnull().sum()"
   ]
  },
  {
   "cell_type": "code",
   "execution_count": null,
   "metadata": {},
   "outputs": [],
   "source": []
  },
  {
   "cell_type": "code",
   "execution_count": 22,
   "metadata": {},
   "outputs": [],
   "source": [
    "cat_cols = [x for x in df.columns if df[x].dtypes == 'O']\n",
    "cat_cols\n",
    "corr_df = pd.get_dummies(df[cat_cols]).corr()"
   ]
  },
  {
   "cell_type": "code",
   "execution_count": 23,
   "metadata": {},
   "outputs": [
    {
     "data": {
      "image/png": "[encoded data removed]",
      "text/plain": [
       "<Figure size 2000x800 with 1 Axes>"
      ]
     },
     "metadata": {
      "needs_background": "light"
     },
     "output_type": "display_data"
    }
   ],
   "source": [
    "corr_df['y_yes'].sort_values().iloc[1:-1]\n",
    "plt.figure(figsize=(10,4),dpi=200)\n",
    "sns.barplot(x=corr_df['y_yes'].sort_values().iloc[1:-1].index,y=corr_df['y_yes'].sort_values().iloc[1:-1].values)\n",
    "plt.title(\"Feature Correlation to Yes Churn\")\n",
    "plt.xticks(rotation=90);"
   ]
  },
  {
   "cell_type": "code",
   "execution_count": null,
   "metadata": {},
   "outputs": [],
   "source": []
  },
  {
   "cell_type": "code",
   "execution_count": 24,
   "metadata": {},
   "outputs": [],
   "source": [
    "from sklearn.preprocessing import LabelEncoder, OneHotEncoder\n",
    "le = LabelEncoder()\n",
    "ohe = OneHotEncoder()"
   ]
  },
  {
   "cell_type": "code",
   "execution_count": 25,
   "metadata": {},
   "outputs": [],
   "source": [
    "df['day'] = df['day'].astype('str')\n",
    "df['campaign'] = df['campaign'].astype('str')\n",
    "df['previous'] = df['previous'].astype('str')"
   ]
  },
  {
   "cell_type": "code",
   "execution_count": 26,
   "metadata": {},
   "outputs": [],
   "source": [
    "X_new = pd.get_dummies(df.drop(['y'], axis=1), drop_first=True)"
   ]
  },
  {
   "cell_type": "code",
   "execution_count": 27,
   "metadata": {},
   "outputs": [],
   "source": [
    "df = pd.concat([X_new, df['y']], axis=1)"
   ]
  },
  {
   "cell_type": "code",
   "execution_count": 28,
   "metadata": {},
   "outputs": [
    {
     "data": {
      "text/html": [
       "<div>\n",
       "<style scoped>\n",
       "    .dataframe tbody tr th:only-of-type {\n",
       "        vertical-align: middle;\n",
       "    }\n",
       "\n",
       "    .dataframe tbody tr th {\n",
       "        vertical-align: top;\n",
       "    }\n",
       "\n",
       "    .dataframe thead th {\n",
       "        text-align: right;\n",
       "    }\n",
       "</style>\n",
       "<table border=\"1\" class=\"dataframe\">\n",
       "  <thead>\n",
       "    <tr style=\"text-align: right;\">\n",
       "      <th></th>\n",
       "      <th>age</th>\n",
       "      <th>balance</th>\n",
       "      <th>duration</th>\n",
       "      <th>pdays</th>\n",
       "      <th>job_blue-collar</th>\n",
       "      <th>job_entrepreneur</th>\n",
       "      <th>job_housemaid</th>\n",
       "      <th>job_management</th>\n",
       "      <th>job_retired</th>\n",
       "      <th>job_self-employed</th>\n",
       "      <th>...</th>\n",
       "      <th>previous_58</th>\n",
       "      <th>previous_6</th>\n",
       "      <th>previous_7</th>\n",
       "      <th>previous_8</th>\n",
       "      <th>previous_9</th>\n",
       "      <th>poutcome_other</th>\n",
       "      <th>poutcome_success</th>\n",
       "      <th>poutcome_unknown</th>\n",
       "      <th>pdays_new_y</th>\n",
       "      <th>y</th>\n",
       "    </tr>\n",
       "  </thead>\n",
       "  <tbody>\n",
       "    <tr>\n",
       "      <th>0</th>\n",
       "      <td>58</td>\n",
       "      <td>2143</td>\n",
       "      <td>261</td>\n",
       "      <td>0</td>\n",
       "      <td>0</td>\n",
       "      <td>0</td>\n",
       "      <td>0</td>\n",
       "      <td>1</td>\n",
       "      <td>0</td>\n",
       "      <td>0</td>\n",
       "      <td>...</td>\n",
       "      <td>0</td>\n",
       "      <td>0</td>\n",
       "      <td>0</td>\n",
       "      <td>0</td>\n",
       "      <td>0</td>\n",
       "      <td>0</td>\n",
       "      <td>0</td>\n",
       "      <td>1</td>\n",
       "      <td>1</td>\n",
       "      <td>no</td>\n",
       "    </tr>\n",
       "    <tr>\n",
       "      <th>1</th>\n",
       "      <td>44</td>\n",
       "      <td>29</td>\n",
       "      <td>151</td>\n",
       "      <td>0</td>\n",
       "      <td>0</td>\n",
       "      <td>0</td>\n",
       "      <td>0</td>\n",
       "      <td>0</td>\n",
       "      <td>0</td>\n",
       "      <td>0</td>\n",
       "      <td>...</td>\n",
       "      <td>0</td>\n",
       "      <td>0</td>\n",
       "      <td>0</td>\n",
       "      <td>0</td>\n",
       "      <td>0</td>\n",
       "      <td>0</td>\n",
       "      <td>0</td>\n",
       "      <td>1</td>\n",
       "      <td>1</td>\n",
       "      <td>no</td>\n",
       "    </tr>\n",
       "    <tr>\n",
       "      <th>2</th>\n",
       "      <td>33</td>\n",
       "      <td>2</td>\n",
       "      <td>76</td>\n",
       "      <td>0</td>\n",
       "      <td>0</td>\n",
       "      <td>1</td>\n",
       "      <td>0</td>\n",
       "      <td>0</td>\n",
       "      <td>0</td>\n",
       "      <td>0</td>\n",
       "      <td>...</td>\n",
       "      <td>0</td>\n",
       "      <td>0</td>\n",
       "      <td>0</td>\n",
       "      <td>0</td>\n",
       "      <td>0</td>\n",
       "      <td>0</td>\n",
       "      <td>0</td>\n",
       "      <td>1</td>\n",
       "      <td>1</td>\n",
       "      <td>no</td>\n",
       "    </tr>\n",
       "    <tr>\n",
       "      <th>3</th>\n",
       "      <td>47</td>\n",
       "      <td>1506</td>\n",
       "      <td>92</td>\n",
       "      <td>0</td>\n",
       "      <td>1</td>\n",
       "      <td>0</td>\n",
       "      <td>0</td>\n",
       "      <td>0</td>\n",
       "      <td>0</td>\n",
       "      <td>0</td>\n",
       "      <td>...</td>\n",
       "      <td>0</td>\n",
       "      <td>0</td>\n",
       "      <td>0</td>\n",
       "      <td>0</td>\n",
       "      <td>0</td>\n",
       "      <td>0</td>\n",
       "      <td>0</td>\n",
       "      <td>1</td>\n",
       "      <td>1</td>\n",
       "      <td>no</td>\n",
       "    </tr>\n",
       "    <tr>\n",
       "      <th>4</th>\n",
       "      <td>33</td>\n",
       "      <td>1</td>\n",
       "      <td>198</td>\n",
       "      <td>0</td>\n",
       "      <td>0</td>\n",
       "      <td>0</td>\n",
       "      <td>0</td>\n",
       "      <td>0</td>\n",
       "      <td>0</td>\n",
       "      <td>0</td>\n",
       "      <td>...</td>\n",
       "      <td>0</td>\n",
       "      <td>0</td>\n",
       "      <td>0</td>\n",
       "      <td>0</td>\n",
       "      <td>0</td>\n",
       "      <td>0</td>\n",
       "      <td>0</td>\n",
       "      <td>1</td>\n",
       "      <td>1</td>\n",
       "      <td>no</td>\n",
       "    </tr>\n",
       "  </tbody>\n",
       "</table>\n",
       "<p>5 rows × 158 columns</p>\n",
       "</div>"
      ],
      "text/plain": [
       "   age  balance  duration  pdays  job_blue-collar  job_entrepreneur  \\\n",
       "0   58     2143       261      0                0                 0   \n",
       "1   44       29       151      0                0                 0   \n",
       "2   33        2        76      0                0                 1   \n",
       "3   47     1506        92      0                1                 0   \n",
       "4   33        1       198      0                0                 0   \n",
       "\n",
       "   job_housemaid  job_management  job_retired  job_self-employed  ...  \\\n",
       "0              0               1            0                  0  ...   \n",
       "1              0               0            0                  0  ...   \n",
       "2              0               0            0                  0  ...   \n",
       "3              0               0            0                  0  ...   \n",
       "4              0               0            0                  0  ...   \n",
       "\n",
       "   previous_58  previous_6  previous_7  previous_8  previous_9  \\\n",
       "0            0           0           0           0           0   \n",
       "1            0           0           0           0           0   \n",
       "2            0           0           0           0           0   \n",
       "3            0           0           0           0           0   \n",
       "4            0           0           0           0           0   \n",
       "\n",
       "   poutcome_other  poutcome_success  poutcome_unknown  pdays_new_y   y  \n",
       "0               0                 0                 1            1  no  \n",
       "1               0                 0                 1            1  no  \n",
       "2               0                 0                 1            1  no  \n",
       "3               0                 0                 1            1  no  \n",
       "4               0                 0                 1            1  no  \n",
       "\n",
       "[5 rows x 158 columns]"
      ]
     },
     "execution_count": 28,
     "metadata": {},
     "output_type": "execute_result"
    }
   ],
   "source": [
    "df.head()"
   ]
  },
  {
   "cell_type": "code",
   "execution_count": null,
   "metadata": {
    "scrolled": true
   },
   "outputs": [],
   "source": []
  },
  {
   "cell_type": "code",
   "execution_count": null,
   "metadata": {},
   "outputs": [],
   "source": []
  },
  {
   "cell_type": "code",
   "execution_count": 29,
   "metadata": {},
   "outputs": [],
   "source": [
    "from sklearn.preprocessing import MinMaxScaler\n",
    "mms1 = MinMaxScaler()\n",
    "mms2 = MinMaxScaler()\n",
    "mms3 = MinMaxScaler()\n",
    "mms4 = MinMaxScaler()"
   ]
  },
  {
   "cell_type": "code",
   "execution_count": 30,
   "metadata": {},
   "outputs": [],
   "source": [
    "df['age'] = mms1.fit_transform(df[['age']])\n",
    "df['balance'] = mms2.fit_transform(df[['balance']])\n",
    "df['duration'] = mms3.fit_transform(df[['duration']])\n",
    "df['pdays'] = mms3.fit_transform(df[['pdays']])"
   ]
  },
  {
   "cell_type": "code",
   "execution_count": 31,
   "metadata": {
    "scrolled": false
   },
   "outputs": [
    {
     "data": {
      "text/html": [
       "<div>\n",
       "<style scoped>\n",
       "    .dataframe tbody tr th:only-of-type {\n",
       "        vertical-align: middle;\n",
       "    }\n",
       "\n",
       "    .dataframe tbody tr th {\n",
       "        vertical-align: top;\n",
       "    }\n",
       "\n",
       "    .dataframe thead th {\n",
       "        text-align: right;\n",
       "    }\n",
       "</style>\n",
       "<table border=\"1\" class=\"dataframe\">\n",
       "  <thead>\n",
       "    <tr style=\"text-align: right;\">\n",
       "      <th></th>\n",
       "      <th>age</th>\n",
       "      <th>balance</th>\n",
       "      <th>duration</th>\n",
       "      <th>pdays</th>\n",
       "      <th>job_blue-collar</th>\n",
       "      <th>job_entrepreneur</th>\n",
       "      <th>job_housemaid</th>\n",
       "      <th>job_management</th>\n",
       "      <th>job_retired</th>\n",
       "      <th>job_self-employed</th>\n",
       "      <th>...</th>\n",
       "      <th>previous_58</th>\n",
       "      <th>previous_6</th>\n",
       "      <th>previous_7</th>\n",
       "      <th>previous_8</th>\n",
       "      <th>previous_9</th>\n",
       "      <th>poutcome_other</th>\n",
       "      <th>poutcome_success</th>\n",
       "      <th>poutcome_unknown</th>\n",
       "      <th>pdays_new_y</th>\n",
       "      <th>y</th>\n",
       "    </tr>\n",
       "  </thead>\n",
       "  <tbody>\n",
       "    <tr>\n",
       "      <th>0</th>\n",
       "      <td>0.519481</td>\n",
       "      <td>0.092259</td>\n",
       "      <td>0.053070</td>\n",
       "      <td>0.0</td>\n",
       "      <td>0</td>\n",
       "      <td>0</td>\n",
       "      <td>0</td>\n",
       "      <td>1</td>\n",
       "      <td>0</td>\n",
       "      <td>0</td>\n",
       "      <td>...</td>\n",
       "      <td>0</td>\n",
       "      <td>0</td>\n",
       "      <td>0</td>\n",
       "      <td>0</td>\n",
       "      <td>0</td>\n",
       "      <td>0</td>\n",
       "      <td>0</td>\n",
       "      <td>1</td>\n",
       "      <td>1</td>\n",
       "      <td>no</td>\n",
       "    </tr>\n",
       "    <tr>\n",
       "      <th>1</th>\n",
       "      <td>0.337662</td>\n",
       "      <td>0.073067</td>\n",
       "      <td>0.030704</td>\n",
       "      <td>0.0</td>\n",
       "      <td>0</td>\n",
       "      <td>0</td>\n",
       "      <td>0</td>\n",
       "      <td>0</td>\n",
       "      <td>0</td>\n",
       "      <td>0</td>\n",
       "      <td>...</td>\n",
       "      <td>0</td>\n",
       "      <td>0</td>\n",
       "      <td>0</td>\n",
       "      <td>0</td>\n",
       "      <td>0</td>\n",
       "      <td>0</td>\n",
       "      <td>0</td>\n",
       "      <td>1</td>\n",
       "      <td>1</td>\n",
       "      <td>no</td>\n",
       "    </tr>\n",
       "    <tr>\n",
       "      <th>2</th>\n",
       "      <td>0.194805</td>\n",
       "      <td>0.072822</td>\n",
       "      <td>0.015453</td>\n",
       "      <td>0.0</td>\n",
       "      <td>0</td>\n",
       "      <td>1</td>\n",
       "      <td>0</td>\n",
       "      <td>0</td>\n",
       "      <td>0</td>\n",
       "      <td>0</td>\n",
       "      <td>...</td>\n",
       "      <td>0</td>\n",
       "      <td>0</td>\n",
       "      <td>0</td>\n",
       "      <td>0</td>\n",
       "      <td>0</td>\n",
       "      <td>0</td>\n",
       "      <td>0</td>\n",
       "      <td>1</td>\n",
       "      <td>1</td>\n",
       "      <td>no</td>\n",
       "    </tr>\n",
       "    <tr>\n",
       "      <th>3</th>\n",
       "      <td>0.376623</td>\n",
       "      <td>0.086476</td>\n",
       "      <td>0.018707</td>\n",
       "      <td>0.0</td>\n",
       "      <td>1</td>\n",
       "      <td>0</td>\n",
       "      <td>0</td>\n",
       "      <td>0</td>\n",
       "      <td>0</td>\n",
       "      <td>0</td>\n",
       "      <td>...</td>\n",
       "      <td>0</td>\n",
       "      <td>0</td>\n",
       "      <td>0</td>\n",
       "      <td>0</td>\n",
       "      <td>0</td>\n",
       "      <td>0</td>\n",
       "      <td>0</td>\n",
       "      <td>1</td>\n",
       "      <td>1</td>\n",
       "      <td>no</td>\n",
       "    </tr>\n",
       "    <tr>\n",
       "      <th>4</th>\n",
       "      <td>0.194805</td>\n",
       "      <td>0.072812</td>\n",
       "      <td>0.040260</td>\n",
       "      <td>0.0</td>\n",
       "      <td>0</td>\n",
       "      <td>0</td>\n",
       "      <td>0</td>\n",
       "      <td>0</td>\n",
       "      <td>0</td>\n",
       "      <td>0</td>\n",
       "      <td>...</td>\n",
       "      <td>0</td>\n",
       "      <td>0</td>\n",
       "      <td>0</td>\n",
       "      <td>0</td>\n",
       "      <td>0</td>\n",
       "      <td>0</td>\n",
       "      <td>0</td>\n",
       "      <td>1</td>\n",
       "      <td>1</td>\n",
       "      <td>no</td>\n",
       "    </tr>\n",
       "  </tbody>\n",
       "</table>\n",
       "<p>5 rows × 158 columns</p>\n",
       "</div>"
      ],
      "text/plain": [
       "        age   balance  duration  pdays  job_blue-collar  job_entrepreneur  \\\n",
       "0  0.519481  0.092259  0.053070    0.0                0                 0   \n",
       "1  0.337662  0.073067  0.030704    0.0                0                 0   \n",
       "2  0.194805  0.072822  0.015453    0.0                0                 1   \n",
       "3  0.376623  0.086476  0.018707    0.0                1                 0   \n",
       "4  0.194805  0.072812  0.040260    0.0                0                 0   \n",
       "\n",
       "   job_housemaid  job_management  job_retired  job_self-employed  ...  \\\n",
       "0              0               1            0                  0  ...   \n",
       "1              0               0            0                  0  ...   \n",
       "2              0               0            0                  0  ...   \n",
       "3              0               0            0                  0  ...   \n",
       "4              0               0            0                  0  ...   \n",
       "\n",
       "   previous_58  previous_6  previous_7  previous_8  previous_9  \\\n",
       "0            0           0           0           0           0   \n",
       "1            0           0           0           0           0   \n",
       "2            0           0           0           0           0   \n",
       "3            0           0           0           0           0   \n",
       "4            0           0           0           0           0   \n",
       "\n",
       "   poutcome_other  poutcome_success  poutcome_unknown  pdays_new_y   y  \n",
       "0               0                 0                 1            1  no  \n",
       "1               0                 0                 1            1  no  \n",
       "2               0                 0                 1            1  no  \n",
       "3               0                 0                 1            1  no  \n",
       "4               0                 0                 1            1  no  \n",
       "\n",
       "[5 rows x 158 columns]"
      ]
     },
     "execution_count": 31,
     "metadata": {},
     "output_type": "execute_result"
    }
   ],
   "source": [
    "df.head()"
   ]
  },
  {
   "cell_type": "code",
   "execution_count": null,
   "metadata": {},
   "outputs": [],
   "source": []
  },
  {
   "cell_type": "code",
   "execution_count": 32,
   "metadata": {},
   "outputs": [],
   "source": [
    "df['y'] = df['y'].apply(lambda x:1 if x=='yes' else 0)"
   ]
  },
  {
   "cell_type": "code",
   "execution_count": 33,
   "metadata": {
    "scrolled": true
   },
   "outputs": [
    {
     "data": {
      "text/plain": [
       "0    39922\n",
       "1     5289\n",
       "Name: y, dtype: int64"
      ]
     },
     "execution_count": 33,
     "metadata": {},
     "output_type": "execute_result"
    }
   ],
   "source": [
    "df['y'].value_counts()"
   ]
  },
  {
   "cell_type": "code",
   "execution_count": null,
   "metadata": {},
   "outputs": [],
   "source": []
  },
  {
   "cell_type": "markdown",
   "metadata": {},
   "source": [
    "# Feature Selection"
   ]
  },
  {
   "cell_type": "code",
   "execution_count": 34,
   "metadata": {},
   "outputs": [
    {
     "name": "stdout",
     "output_type": "stream",
     "text": [
      "T-test for feature age\n",
      "t-stat is -4.318317591167382, pval is 1.5971046743757902e-05\n",
      "Can reject null hypothesis for feature: age\n",
      "Feature: age is significant for the model\n",
      "**********************\n",
      "T-test for feature balance\n",
      "t-stat is -9.933545392962273, pval is 4.383732777099304e-23\n",
      "Can reject null hypothesis for feature: balance\n",
      "Feature: balance is significant for the model\n",
      "**********************\n",
      "T-test for feature duration\n",
      "t-stat is -57.514126544567894, pval is 0.0\n",
      "Can reject null hypothesis for feature: duration\n",
      "Feature: duration is significant for the model\n",
      "**********************\n",
      "T-test for feature pdays\n",
      "t-stat is -18.88540738730403, pval is 2.0797029230864757e-77\n",
      "Can reject null hypothesis for feature: pdays\n",
      "Feature: pdays is significant for the model\n",
      "**********************\n",
      "T-test for feature job_blue-collar\n",
      "t-stat is 17.971438462851108, pval is 9.479115310610557e-71\n",
      "Can reject null hypothesis for feature: job_blue-collar\n",
      "Feature: job_blue-collar is significant for the model\n",
      "**********************\n",
      "T-test for feature job_entrepreneur\n",
      "t-stat is 4.820913939397941, pval is 1.4572123708207323e-06\n",
      "Can reject null hypothesis for feature: job_entrepreneur\n",
      "Feature: job_entrepreneur is significant for the model\n",
      "**********************\n",
      "T-test for feature job_housemaid\n",
      "t-stat is 3.6372871012386527, pval is 0.0002774142600392652\n",
      "Can reject null hypothesis for feature: job_housemaid\n",
      "Feature: job_housemaid is significant for the model\n",
      "**********************\n",
      "T-test for feature job_management\n",
      "t-stat is -6.65819968800472, pval is 2.996035545860366e-11\n",
      "Can reject null hypothesis for feature: job_management\n",
      "Feature: job_management is significant for the model\n",
      "**********************\n",
      "T-test for feature job_retired\n",
      "t-stat is -12.782596647627438, pval is 6.230482640125242e-37\n",
      "Can reject null hypothesis for feature: job_retired\n",
      "Feature: job_retired is significant for the model\n",
      "**********************\n",
      "T-test for feature job_self-employed\n",
      "t-stat is -0.18085781231448997, pval is 0.8564846171113352\n",
      "Cannot reject null hypothesis for feature: job_self-employed\n",
      "Feature: job_self-employed is not significant for the model\n",
      "**********************\n",
      "T-test for feature job_services\n",
      "t-stat is 6.594036430628141, pval is 4.579979925107569e-11\n",
      "Can reject null hypothesis for feature: job_services\n",
      "Feature: job_services is significant for the model\n",
      "**********************\n",
      "T-test for feature job_student\n",
      "t-stat is -11.040189581302236, pval is 4.658463917558349e-28\n",
      "Can reject null hypothesis for feature: job_student\n",
      "Feature: job_student is significant for the model\n",
      "**********************\n",
      "T-test for feature job_technician\n",
      "t-stat is 1.9448860537770236, pval is 0.051829577041367925\n",
      "Cannot reject null hypothesis for feature: job_technician\n",
      "Feature: job_technician is not significant for the model\n",
      "**********************\n",
      "T-test for feature job_unemployed\n",
      "t-stat is -3.8453358814825944, pval is 0.0001215643663621731\n",
      "Can reject null hypothesis for feature: job_unemployed\n",
      "Feature: job_unemployed is significant for the model\n",
      "**********************\n",
      "T-test for feature job_unknown\n",
      "t-stat is -0.05649113761816535, pval is 0.9549522273841983\n",
      "Cannot reject null hypothesis for feature: job_unknown\n",
      "Feature: job_unknown is not significant for the model\n",
      "**********************\n",
      "T-test for feature marital_married\n",
      "t-stat is 12.590118162857852, pval is 6.10219637087359e-36\n",
      "Can reject null hypothesis for feature: marital_married\n",
      "Feature: marital_married is significant for the model\n",
      "**********************\n",
      "T-test for feature marital_single\n",
      "t-stat is -12.767886795847625, pval is 6.805397106227979e-37\n",
      "Can reject null hypothesis for feature: marital_single\n",
      "Feature: marital_single is significant for the model\n",
      "**********************\n",
      "T-test for feature education_secondary\n",
      "t-stat is 7.752980683269721, pval is 1.0293804663374125e-14\n",
      "Can reject null hypothesis for feature: education_secondary\n",
      "Feature: education_secondary is significant for the model\n",
      "**********************\n",
      "T-test for feature education_tertiary\n",
      "t-stat is -13.387892716847764, pval is 2.402495491808015e-40\n",
      "Can reject null hypothesis for feature: education_tertiary\n",
      "Feature: education_tertiary is significant for the model\n",
      "**********************\n",
      "T-test for feature education_unknown\n",
      "t-stat is -2.408702999283945, pval is 0.016036817527494328\n",
      "Can reject null hypothesis for feature: education_unknown\n",
      "Feature: education_unknown is significant for the model\n",
      "**********************\n",
      "T-test for feature default_yes\n",
      "t-stat is 6.1053891503845845, pval is 1.0718084013206045e-09\n",
      "Can reject null hypothesis for feature: default_yes\n",
      "Feature: default_yes is significant for the model\n",
      "**********************\n",
      "T-test for feature housing_yes\n",
      "t-stat is 30.435996213715722, pval is 6.182724100499504e-191\n",
      "Can reject null hypothesis for feature: housing_yes\n",
      "Feature: housing_yes is significant for the model\n",
      "**********************\n",
      "T-test for feature loan_yes\n",
      "t-stat is 17.73896140982261, pval is 4.5783072113974217e-69\n",
      "Can reject null hypothesis for feature: loan_yes\n",
      "Feature: loan_yes is significant for the model\n",
      "**********************\n",
      "T-test for feature contact_telephone\n",
      "t-stat is -2.824119357743773, pval is 0.004755379298278903\n",
      "Can reject null hypothesis for feature: contact_telephone\n",
      "Feature: contact_telephone is significant for the model\n",
      "**********************\n",
      "T-test for feature contact_unknown\n",
      "t-stat is 44.894669465976314, pval is 0.0\n",
      "Can reject null hypothesis for feature: contact_unknown\n",
      "Feature: contact_unknown is significant for the model\n",
      "**********************\n",
      "T-test for feature day_10\n",
      "t-stat is -6.040961289555492, pval is 1.6250103024727545e-09\n",
      "Can reject null hypothesis for feature: day_10\n",
      "Feature: day_10 is significant for the model\n",
      "**********************\n",
      "T-test for feature day_11\n",
      "t-stat is -0.6440271850746472, pval is 0.5195798798840445\n",
      "Cannot reject null hypothesis for feature: day_11\n",
      "Feature: day_11 is not significant for the model\n",
      "**********************\n",
      "T-test for feature day_12\n",
      "t-stat is -3.998531933677581, pval is 6.445627837649587e-05\n",
      "Can reject null hypothesis for feature: day_12\n",
      "Feature: day_12 is significant for the model\n",
      "**********************\n",
      "T-test for feature day_13\n",
      "t-stat is -3.9582641636433755, pval is 7.631659426012648e-05\n",
      "Can reject null hypothesis for feature: day_13\n",
      "Feature: day_13 is significant for the model\n",
      "**********************\n",
      "T-test for feature day_14\n",
      "t-stat is 0.46280901485980314, pval is 0.6435160444885166\n",
      "Cannot reject null hypothesis for feature: day_14\n",
      "Feature: day_14 is not significant for the model\n",
      "**********************\n",
      "T-test for feature day_15\n",
      "t-stat is -2.7656210629459648, pval is 0.00569750514993085\n",
      "Can reject null hypothesis for feature: day_15\n",
      "Feature: day_15 is significant for the model\n",
      "**********************\n",
      "T-test for feature day_16\n",
      "t-stat is -2.0889485750396424, pval is 0.03675095677855108\n",
      "Can reject null hypothesis for feature: day_16\n",
      "Feature: day_16 is significant for the model\n",
      "**********************\n",
      "T-test for feature day_17\n",
      "t-stat is 4.07319154119426, pval is 4.686681651627663e-05\n",
      "Can reject null hypothesis for feature: day_17\n",
      "Feature: day_17 is significant for the model\n",
      "**********************\n",
      "T-test for feature day_18\n",
      "t-stat is 2.991477601738094, pval is 0.002785880851369211\n",
      "Can reject null hypothesis for feature: day_18\n",
      "Feature: day_18 is significant for the model\n",
      "**********************\n",
      "T-test for feature day_19\n",
      "t-stat is 7.810471511707643, pval is 6.424765820659566e-15\n",
      "Can reject null hypothesis for feature: day_19\n",
      "Feature: day_19 is significant for the model\n",
      "**********************\n",
      "T-test for feature day_2\n",
      "t-stat is -2.4946063689866302, pval is 0.012634401632215141\n",
      "Can reject null hypothesis for feature: day_2\n",
      "Feature: day_2 is significant for the model\n",
      "**********************\n",
      "T-test for feature day_20\n",
      "t-stat is 9.764650056368122, pval is 2.135915645132014e-22\n",
      "Can reject null hypothesis for feature: day_20\n",
      "Feature: day_20 is significant for the model\n",
      "**********************\n",
      "T-test for feature day_21\n",
      "t-stat is 2.7250728947935934, pval is 0.006444551332239466\n",
      "Can reject null hypothesis for feature: day_21\n",
      "Feature: day_21 is significant for the model\n",
      "**********************\n",
      "T-test for feature day_22\n",
      "t-stat is -4.276013692898142, pval is 1.931088809302511e-05\n",
      "Can reject null hypothesis for feature: day_22\n",
      "Feature: day_22 is significant for the model\n",
      "**********************\n",
      "T-test for feature day_23\n",
      "t-stat is -1.5627037848277447, pval is 0.11817061696310177\n",
      "Cannot reject null hypothesis for feature: day_23\n",
      "Feature: day_23 is not significant for the model\n",
      "**********************\n",
      "T-test for feature day_24\n",
      "t-stat is -1.3334308442664176, pval is 0.18243721310687683\n",
      "Cannot reject null hypothesis for feature: day_24\n",
      "Feature: day_24 is not significant for the model\n",
      "**********************\n",
      "T-test for feature day_25\n",
      "t-stat is -3.3023744001721163, pval is 0.0009640239891591936\n",
      "Can reject null hypothesis for feature: day_25\n",
      "Feature: day_25 is significant for the model\n",
      "**********************\n",
      "T-test for feature day_26\n",
      "t-stat is 0.505988586181201, pval is 0.6128809656883832\n",
      "Cannot reject null hypothesis for feature: day_26\n",
      "Feature: day_26 is not significant for the model\n",
      "**********************\n",
      "T-test for feature day_27\n",
      "t-stat is -1.6760168252948868, pval is 0.09378260871031534\n",
      "Cannot reject null hypothesis for feature: day_27\n",
      "Feature: day_27 is not significant for the model\n",
      "**********************\n",
      "T-test for feature day_28\n",
      "t-stat is 6.219565967289262, pval is 5.248403123283881e-10\n",
      "Can reject null hypothesis for feature: day_28\n",
      "Feature: day_28 is significant for the model\n",
      "**********************\n",
      "T-test for feature day_29\n",
      "t-stat is 6.877260724905362, pval is 6.574376603975291e-12\n",
      "Can reject null hypothesis for feature: day_29\n",
      "Feature: day_29 is significant for the model\n",
      "**********************\n",
      "T-test for feature day_3\n",
      "t-stat is -4.281916848175073, pval is 1.880529464269241e-05\n",
      "Can reject null hypothesis for feature: day_3\n",
      "Feature: day_3 is significant for the model\n",
      "**********************\n",
      "T-test for feature day_30\n"
     ]
    },
    {
     "name": "stdout",
     "output_type": "stream",
     "text": [
      "t-stat is -5.951299854989208, pval is 2.8049827606092895e-09\n",
      "Can reject null hypothesis for feature: day_30\n",
      "Feature: day_30 is significant for the model\n",
      "**********************\n",
      "T-test for feature day_31\n",
      "t-stat is 4.424923201266153, pval is 9.777119496783807e-06\n",
      "Can reject null hypothesis for feature: day_31\n",
      "Feature: day_31 is significant for the model\n",
      "**********************\n",
      "T-test for feature day_4\n",
      "t-stat is -4.449405710939323, pval is 8.758493009211012e-06\n",
      "Can reject null hypothesis for feature: day_4\n",
      "Feature: day_4 is significant for the model\n",
      "**********************\n",
      "T-test for feature day_5\n",
      "t-stat is 0.6238603764516328, pval is 0.5327401128165057\n",
      "Cannot reject null hypothesis for feature: day_5\n",
      "Feature: day_5 is not significant for the model\n",
      "**********************\n",
      "T-test for feature day_6\n",
      "t-stat is 3.5672313588561697, pval is 0.0003631214912537996\n",
      "Can reject null hypothesis for feature: day_6\n",
      "Feature: day_6 is significant for the model\n",
      "**********************\n",
      "T-test for feature day_7\n",
      "t-stat is 4.686134449807752, pval is 2.834094969296432e-06\n",
      "Can reject null hypothesis for feature: day_7\n",
      "Feature: day_7 is significant for the model\n",
      "**********************\n",
      "T-test for feature day_8\n",
      "t-stat is 1.1034878747704033, pval is 0.2698539061366246\n",
      "Cannot reject null hypothesis for feature: day_8\n",
      "Feature: day_8 is not significant for the model\n",
      "**********************\n",
      "T-test for feature day_9\n",
      "t-stat is 0.2919922601072455, pval is 0.7703014489680038\n",
      "Cannot reject null hypothesis for feature: day_9\n",
      "Feature: day_9 is not significant for the model\n",
      "**********************\n",
      "T-test for feature month_aug\n",
      "t-stat is 1.8553789886358447, pval is 0.06358500333869295\n",
      "Cannot reject null hypothesis for feature: month_aug\n",
      "Feature: month_aug is not significant for the model\n",
      "**********************\n",
      "T-test for feature month_dec\n",
      "t-stat is -8.484470066223853, pval is 2.7541839544232094e-17\n",
      "Can reject null hypothesis for feature: month_dec\n",
      "Feature: month_dec is significant for the model\n",
      "**********************\n",
      "T-test for feature month_feb\n",
      "t-stat is -7.07098393065436, pval is 1.7050981707680552e-12\n",
      "Can reject null hypothesis for feature: month_feb\n",
      "Feature: month_feb is significant for the model\n",
      "**********************\n",
      "T-test for feature month_jan\n",
      "t-stat is 1.9834682053095276, pval is 0.04735398093295039\n",
      "Can reject null hypothesis for feature: month_jan\n",
      "Feature: month_jan is significant for the model\n",
      "**********************\n",
      "T-test for feature month_jul\n",
      "t-stat is 8.005865917042492, pval is 1.3734736533925963e-15\n",
      "Can reject null hypothesis for feature: month_jul\n",
      "Feature: month_jul is significant for the model\n",
      "**********************\n",
      "T-test for feature month_jun\n",
      "t-stat is 3.7591516977440174, pval is 0.0001718810172854555\n",
      "Can reject null hypothesis for feature: month_jun\n",
      "Feature: month_jun is significant for the model\n",
      "**********************\n",
      "T-test for feature month_mar\n",
      "t-stat is -14.037920213249716, pval is 5.26551755831955e-44\n",
      "Can reject null hypothesis for feature: month_mar\n",
      "Feature: month_mar is significant for the model\n",
      "**********************\n",
      "T-test for feature month_may\n",
      "t-stat is 25.643319279068322, pval is 3.7795298719649026e-139\n",
      "Can reject null hypothesis for feature: month_may\n",
      "Feature: month_may is significant for the model\n",
      "**********************\n",
      "T-test for feature month_nov\n",
      "t-stat is 3.357298479963913, pval is 0.0007912709502309219\n",
      "Can reject null hypothesis for feature: month_nov\n",
      "Feature: month_nov is significant for the model\n",
      "**********************\n",
      "T-test for feature month_oct\n",
      "t-stat is -15.209234635874038, pval is 3.282411017472088e-51\n",
      "Can reject null hypothesis for feature: month_oct\n",
      "Feature: month_oct is significant for the model\n",
      "**********************\n",
      "T-test for feature month_sep\n",
      "t-stat is -14.11485653080211, pval is 1.8155784837804634e-44\n",
      "Can reject null hypothesis for feature: month_sep\n",
      "Feature: month_sep is significant for the model\n",
      "**********************\n",
      "T-test for feature campaign_10\n",
      "t-stat is 4.524155878513024, pval is 6.141231311124759e-06\n",
      "Can reject null hypothesis for feature: campaign_10\n",
      "Feature: campaign_10 is significant for the model\n",
      "**********************\n",
      "T-test for feature campaign_11\n",
      "t-stat is 1.9426712225670306, pval is 0.05209275110639606\n",
      "Cannot reject null hypothesis for feature: campaign_11\n",
      "Feature: campaign_11 is not significant for the model\n",
      "**********************\n",
      "T-test for feature campaign_12\n",
      "t-stat is 6.212027691272865, pval is 5.380885675191205e-10\n",
      "Can reject null hypothesis for feature: campaign_12\n",
      "Feature: campaign_12 is significant for the model\n",
      "**********************\n",
      "T-test for feature campaign_13\n",
      "t-stat is 3.77661939427931, pval is 0.00015991547176861474\n",
      "Can reject null hypothesis for feature: campaign_13\n",
      "Feature: campaign_13 is significant for the model\n",
      "**********************\n",
      "T-test for feature campaign_14\n",
      "t-stat is 3.305197392845221, pval is 0.0009524310106560215\n",
      "Can reject null hypothesis for feature: campaign_14\n",
      "Feature: campaign_14 is significant for the model\n",
      "**********************\n",
      "T-test for feature campaign_15\n",
      "t-stat is 2.839851277128856, pval is 0.004523056041582364\n",
      "Can reject null hypothesis for feature: campaign_15\n",
      "Feature: campaign_15 is significant for the model\n",
      "**********************\n",
      "T-test for feature campaign_16\n",
      "t-stat is 4.481780281934502, pval is 7.461077574956951e-06\n",
      "Can reject null hypothesis for feature: campaign_16\n",
      "Feature: campaign_16 is significant for the model\n",
      "**********************\n",
      "T-test for feature campaign_17\n",
      "t-stat is 0.8807079938939588, pval is 0.378504560058063\n",
      "Cannot reject null hypothesis for feature: campaign_17\n",
      "Feature: campaign_17 is not significant for the model\n",
      "**********************\n",
      "T-test for feature campaign_18\n",
      "t-stat is 7.145904859353715, pval is 9.093322062638701e-13\n",
      "Can reject null hypothesis for feature: campaign_18\n",
      "Feature: campaign_18 is significant for the model\n",
      "**********************\n",
      "T-test for feature campaign_19\n",
      "t-stat is 6.636824896466259, pval is 3.246043383795465e-11\n",
      "Can reject null hypothesis for feature: campaign_19\n",
      "Feature: campaign_19 is significant for the model\n",
      "**********************\n",
      "T-test for feature campaign_2\n",
      "t-stat is 2.048568632129344, pval is 0.040542542642326394\n",
      "Can reject null hypothesis for feature: campaign_2\n",
      "Feature: campaign_2 is significant for the model\n",
      "**********************\n",
      "T-test for feature campaign_20\n",
      "t-stat is 3.463752300869029, pval is 0.0005341963286268699\n",
      "Can reject null hypothesis for feature: campaign_20\n",
      "Feature: campaign_20 is significant for the model\n",
      "**********************\n",
      "T-test for feature campaign_21\n",
      "t-stat is 2.773733838998229, pval is 0.005549682059994565\n",
      "Can reject null hypothesis for feature: campaign_21\n",
      "Feature: campaign_21 is significant for the model\n",
      "**********************\n",
      "T-test for feature campaign_22\n",
      "t-stat is 4.797153533305539, pval is 1.61516448629359e-06\n",
      "Can reject null hypothesis for feature: campaign_22\n",
      "Feature: campaign_22 is significant for the model\n",
      "**********************\n",
      "T-test for feature campaign_23\n",
      "t-stat is 4.691649917392432, pval is 2.7190750435665635e-06\n",
      "Can reject null hypothesis for feature: campaign_23\n",
      "Feature: campaign_23 is significant for the model\n",
      "**********************\n",
      "T-test for feature campaign_24\n",
      "t-stat is 1.3139188754562559, pval is 0.18890603861074012\n",
      "Cannot reject null hypothesis for feature: campaign_24\n",
      "Feature: campaign_24 is not significant for the model\n",
      "**********************\n",
      "T-test for feature campaign_25\n",
      "t-stat is 4.691649917392433, pval is 2.719075043566549e-06\n",
      "Can reject null hypothesis for feature: campaign_25\n",
      "Feature: campaign_25 is significant for the model\n",
      "**********************\n",
      "T-test for feature campaign_26\n",
      "t-stat is 3.6060933006136926, pval is 0.00031122018358003916\n",
      "Can reject null hypothesis for feature: campaign_26\n",
      "Feature: campaign_26 is significant for the model\n",
      "**********************\n",
      "T-test for feature campaign_27\n",
      "t-stat is 3.162634180697162, pval is 0.0015646570617283988\n",
      "Can reject null hypothesis for feature: campaign_27\n",
      "Feature: campaign_27 is significant for the model\n",
      "**********************\n",
      "T-test for feature campaign_28\n",
      "t-stat is 4.000751696020767, pval is 6.325535947185325e-05\n",
      "Can reject null hypothesis for feature: campaign_28\n",
      "Feature: campaign_28 is significant for the model\n",
      "**********************\n",
      "T-test for feature campaign_29\n",
      "t-stat is 0.8784027500344326, pval is 0.3797504341592334\n",
      "Cannot reject null hypothesis for feature: campaign_29\n",
      "Feature: campaign_29 is not significant for the model\n",
      "**********************\n",
      "T-test for feature campaign_3\n",
      "t-stat is 1.266303900183514, pval is 0.20544745960917463\n",
      "Cannot reject null hypothesis for feature: campaign_3\n",
      "Feature: campaign_3 is not significant for the model\n",
      "**********************\n",
      "T-test for feature campaign_30\n",
      "t-stat is 2.828675134490605, pval is 0.00467644074833766\n",
      "Can reject null hypothesis for feature: campaign_30\n",
      "Feature: campaign_30 is significant for the model\n",
      "**********************\n",
      "T-test for feature campaign_31\n",
      "t-stat is 3.46457897034314, pval is 0.0005316194310102221\n",
      "Can reject null hypothesis for feature: campaign_31\n",
      "Feature: campaign_31 is significant for the model\n",
      "**********************\n",
      "T-test for feature campaign_32\n",
      "t-stat is 0.05606074923409842, pval is 0.9552950451586079\n",
      "Cannot reject null hypothesis for feature: campaign_32\n",
      "Feature: campaign_32 is not significant for the model\n",
      "**********************\n",
      "T-test for feature campaign_33\n",
      "t-stat is 2.449643153260176, pval is 0.014304050294087317\n",
      "Can reject null hypothesis for feature: campaign_33\n",
      "Feature: campaign_33 is significant for the model\n",
      "**********************\n",
      "T-test for feature campaign_34\n",
      "t-stat is 2.236180010566522, pval is 0.02534548432097345\n",
      "Can reject null hypothesis for feature: campaign_34\n",
      "Feature: campaign_34 is significant for the model\n",
      "**********************\n",
      "T-test for feature campaign_35\n",
      "t-stat is 2.000075152653855, pval is 0.045498911328305136\n",
      "Can reject null hypothesis for feature: campaign_35\n",
      "Feature: campaign_35 is significant for the model\n",
      "**********************\n",
      "T-test for feature campaign_36\n",
      "t-stat is 2.000075152653855, pval is 0.045498911328305136\n",
      "Can reject null hypothesis for feature: campaign_36\n",
      "Feature: campaign_36 is significant for the model\n",
      "**********************\n",
      "T-test for feature campaign_37\n",
      "t-stat is 1.414231275357889, pval is 0.1573018065601414\n",
      "Cannot reject null hypothesis for feature: campaign_37\n",
      "Feature: campaign_37 is not significant for the model\n",
      "**********************\n",
      "T-test for feature campaign_38\n"
     ]
    },
    {
     "name": "stdout",
     "output_type": "stream",
     "text": [
      "t-stat is 1.7320941961586103, pval is 0.08326451656680356\n",
      "Cannot reject null hypothesis for feature: campaign_38\n",
      "Feature: campaign_38 is not significant for the model\n",
      "**********************\n",
      "T-test for feature campaign_39\n",
      "t-stat is 1.0, pval is 0.3173165690640167\n",
      "Cannot reject null hypothesis for feature: campaign_39\n",
      "Feature: campaign_39 is not significant for the model\n",
      "**********************\n",
      "T-test for feature campaign_4\n",
      "t-stat is 5.753629873345913, pval is 9.090305049161207e-09\n",
      "Can reject null hypothesis for feature: campaign_4\n",
      "Feature: campaign_4 is significant for the model\n",
      "**********************\n",
      "T-test for feature campaign_41\n",
      "t-stat is 1.414231275357889, pval is 0.1573018065601414\n",
      "Cannot reject null hypothesis for feature: campaign_41\n",
      "Feature: campaign_41 is not significant for the model\n",
      "**********************\n",
      "T-test for feature campaign_43\n",
      "t-stat is 1.7320941961586103, pval is 0.08326451656680356\n",
      "Cannot reject null hypothesis for feature: campaign_43\n",
      "Feature: campaign_43 is not significant for the model\n",
      "**********************\n",
      "T-test for feature campaign_44\n",
      "t-stat is 1.0, pval is 0.3173165690640167\n",
      "Cannot reject null hypothesis for feature: campaign_44\n",
      "Feature: campaign_44 is not significant for the model\n",
      "**********************\n",
      "T-test for feature campaign_46\n",
      "t-stat is 1.0, pval is 0.3173165690640167\n",
      "Cannot reject null hypothesis for feature: campaign_46\n",
      "Feature: campaign_46 is not significant for the model\n",
      "**********************\n",
      "T-test for feature campaign_5\n",
      "t-stat is 5.980017517705391, pval is 2.3320863518889596e-09\n",
      "Can reject null hypothesis for feature: campaign_5\n",
      "Feature: campaign_5 is significant for the model\n",
      "**********************\n",
      "T-test for feature campaign_50\n",
      "t-stat is 1.414231275357889, pval is 0.1573018065601414\n",
      "Cannot reject null hypothesis for feature: campaign_50\n",
      "Feature: campaign_50 is not significant for the model\n",
      "**********************\n",
      "T-test for feature campaign_51\n",
      "t-stat is 1.0, pval is 0.3173165690640167\n",
      "Cannot reject null hypothesis for feature: campaign_51\n",
      "Feature: campaign_51 is not significant for the model\n",
      "**********************\n",
      "T-test for feature campaign_55\n",
      "t-stat is 1.0, pval is 0.3173165690640167\n",
      "Cannot reject null hypothesis for feature: campaign_55\n",
      "Feature: campaign_55 is not significant for the model\n",
      "**********************\n",
      "T-test for feature campaign_58\n",
      "t-stat is 1.0, pval is 0.3173165690640167\n",
      "Cannot reject null hypothesis for feature: campaign_58\n",
      "Feature: campaign_58 is not significant for the model\n",
      "**********************\n",
      "T-test for feature campaign_6\n",
      "t-stat is 6.349753414877154, pval is 2.275906308910625e-10\n",
      "Can reject null hypothesis for feature: campaign_6\n",
      "Feature: campaign_6 is significant for the model\n",
      "**********************\n",
      "T-test for feature campaign_63\n",
      "t-stat is 1.0, pval is 0.3173165690640167\n",
      "Cannot reject null hypothesis for feature: campaign_63\n",
      "Feature: campaign_63 is not significant for the model\n",
      "**********************\n",
      "T-test for feature campaign_7\n",
      "t-stat is 5.774184282819009, pval is 8.01267836309767e-09\n",
      "Can reject null hypothesis for feature: campaign_7\n",
      "Feature: campaign_7 is significant for the model\n",
      "**********************\n",
      "T-test for feature campaign_8\n",
      "t-stat is 5.539208657014011, pval is 3.128719430613264e-08\n",
      "Can reject null hypothesis for feature: campaign_8\n",
      "Feature: campaign_8 is significant for the model\n",
      "**********************\n",
      "T-test for feature campaign_9\n",
      "t-stat is 3.8137692512108003, pval is 0.000137860580172737\n",
      "Can reject null hypothesis for feature: campaign_9\n",
      "Feature: campaign_9 is significant for the model\n",
      "**********************\n",
      "T-test for feature previous_1\n",
      "t-stat is -12.435221862141775, pval is 4.502056146952833e-35\n",
      "Can reject null hypothesis for feature: previous_1\n",
      "Feature: previous_1 is significant for the model\n",
      "**********************\n",
      "T-test for feature previous_10\n",
      "t-stat is -3.988300674060998, pval is 6.739857970475477e-05\n",
      "Can reject null hypothesis for feature: previous_10\n",
      "Feature: previous_10 is significant for the model\n",
      "**********************\n",
      "T-test for feature previous_11\n",
      "t-stat is -2.104719664462518, pval is 0.035357736089279966\n",
      "Can reject null hypothesis for feature: previous_11\n",
      "Feature: previous_11 is significant for the model\n",
      "**********************\n",
      "T-test for feature previous_12\n",
      "t-stat is -1.689604381591252, pval is 0.09115618168857643\n",
      "Cannot reject null hypothesis for feature: previous_12\n",
      "Feature: previous_12 is not significant for the model\n",
      "**********************\n",
      "T-test for feature previous_13\n",
      "t-stat is -1.6739085586773768, pval is 0.09420156820221777\n",
      "Cannot reject null hypothesis for feature: previous_13\n",
      "Feature: previous_13 is not significant for the model\n",
      "**********************\n",
      "T-test for feature previous_14\n",
      "t-stat is -1.3737572473821036, pval is 0.16956997613959635\n",
      "Cannot reject null hypothesis for feature: previous_14\n",
      "Feature: previous_14 is not significant for the model\n",
      "**********************\n",
      "T-test for feature previous_15\n",
      "t-stat is 1.3139188754562559, pval is 0.18890603861074012\n",
      "Cannot reject null hypothesis for feature: previous_15\n",
      "Feature: previous_15 is not significant for the model\n",
      "**********************\n",
      "T-test for feature previous_16\n",
      "t-stat is 3.6060933006136926, pval is 0.00031122018358003916\n",
      "Can reject null hypothesis for feature: previous_16\n",
      "Feature: previous_16 is significant for the model\n",
      "**********************\n",
      "T-test for feature previous_17\n",
      "t-stat is -0.7871667955371062, pval is 0.4312150530555562\n",
      "Cannot reject null hypothesis for feature: previous_17\n",
      "Feature: previous_17 is not significant for the model\n",
      "**********************\n",
      "T-test for feature previous_18\n",
      "t-stat is 2.449643153260176, pval is 0.014304050294087317\n",
      "Can reject null hypothesis for feature: previous_18\n",
      "Feature: previous_18 is significant for the model\n",
      "**********************\n",
      "T-test for feature previous_19\n",
      "t-stat is -0.549847239182169, pval is 0.5824441174967447\n",
      "Cannot reject null hypothesis for feature: previous_19\n",
      "Feature: previous_19 is not significant for the model\n",
      "**********************\n",
      "T-test for feature previous_2\n",
      "t-stat is -11.259926900072216, pval is 4.04201400133155e-29\n",
      "Can reject null hypothesis for feature: previous_2\n",
      "Feature: previous_2 is significant for the model\n",
      "**********************\n",
      "T-test for feature previous_20\n",
      "t-stat is -0.06852927527332445, pval is 0.9453663757551081\n",
      "Cannot reject null hypothesis for feature: previous_20\n",
      "Feature: previous_20 is not significant for the model\n",
      "**********************\n",
      "T-test for feature previous_21\n",
      "t-stat is -0.5872871269974178, pval is 0.5570335219512076\n",
      "Cannot reject null hypothesis for feature: previous_21\n",
      "Feature: previous_21 is not significant for the model\n",
      "**********************\n",
      "T-test for feature previous_22\n",
      "t-stat is -0.3236803349409086, pval is 0.7461908897903015\n",
      "Cannot reject null hypothesis for feature: previous_22\n",
      "Feature: previous_22 is not significant for the model\n",
      "**********************\n",
      "T-test for feature previous_23\n",
      "t-stat is -0.06852927527332445, pval is 0.9453663757551081\n",
      "Cannot reject null hypothesis for feature: previous_23\n",
      "Feature: previous_23 is not significant for the model\n",
      "**********************\n",
      "T-test for feature previous_24\n",
      "t-stat is 2.236180010566522, pval is 0.02534548432097345\n",
      "Can reject null hypothesis for feature: previous_24\n",
      "Feature: previous_24 is significant for the model\n",
      "**********************\n",
      "T-test for feature previous_25\n",
      "t-stat is 2.000075152653855, pval is 0.045498911328305136\n",
      "Can reject null hypothesis for feature: previous_25\n",
      "Feature: previous_25 is significant for the model\n",
      "**********************\n",
      "T-test for feature previous_26\n",
      "t-stat is -0.8600021786590195, pval is 0.38982549653848975\n",
      "Cannot reject null hypothesis for feature: previous_26\n",
      "Feature: previous_26 is not significant for the model\n",
      "**********************\n",
      "T-test for feature previous_27\n",
      "t-stat is 2.236180010566522, pval is 0.02534548432097345\n",
      "Can reject null hypothesis for feature: previous_27\n",
      "Feature: previous_27 is significant for the model\n",
      "**********************\n",
      "T-test for feature previous_275\n",
      "t-stat is 0.9999999999999999, pval is 0.3173165690640168\n",
      "Cannot reject null hypothesis for feature: previous_275\n",
      "Feature: previous_275 is not significant for the model\n",
      "**********************\n",
      "T-test for feature previous_28\n",
      "t-stat is 1.414231275357889, pval is 0.1573018065601414\n",
      "Cannot reject null hypothesis for feature: previous_28\n",
      "Feature: previous_28 is not significant for the model\n",
      "**********************\n",
      "T-test for feature previous_29\n",
      "t-stat is -0.5872871269974178, pval is 0.5570335219512076\n",
      "Cannot reject null hypothesis for feature: previous_29\n",
      "Feature: previous_29 is not significant for the model\n",
      "**********************\n",
      "T-test for feature previous_3\n",
      "t-stat is -10.625445464707875, pval is 3.92082278983133e-26\n",
      "Can reject null hypothesis for feature: previous_3\n",
      "Feature: previous_3 is significant for the model\n",
      "**********************\n",
      "T-test for feature previous_30\n",
      "t-stat is -0.7224624565876678, pval is 0.47004002274760637\n",
      "Cannot reject null hypothesis for feature: previous_30\n",
      "Feature: previous_30 is not significant for the model\n",
      "**********************\n",
      "T-test for feature previous_32\n",
      "t-stat is 0.9999999999999999, pval is 0.3173165690640168\n",
      "Cannot reject null hypothesis for feature: previous_32\n",
      "Feature: previous_32 is not significant for the model\n",
      "**********************\n",
      "T-test for feature previous_35\n",
      "t-stat is 0.9999999999999999, pval is 0.3173165690640168\n",
      "Cannot reject null hypothesis for feature: previous_35\n",
      "Feature: previous_35 is not significant for the model\n",
      "**********************\n",
      "T-test for feature previous_37\n",
      "t-stat is 1.4142312753578885, pval is 0.15730180656014148\n",
      "Cannot reject null hypothesis for feature: previous_37\n",
      "Feature: previous_37 is not significant for the model\n",
      "**********************\n",
      "T-test for feature previous_38\n",
      "t-stat is 1.4142312753578885, pval is 0.15730180656014148\n",
      "Cannot reject null hypothesis for feature: previous_38\n",
      "Feature: previous_38 is not significant for the model\n",
      "**********************\n",
      "T-test for feature previous_4\n",
      "t-stat is -7.490405893958697, pval is 7.875529895306997e-14\n",
      "Can reject null hypothesis for feature: previous_4\n",
      "Feature: previous_4 is significant for the model\n",
      "**********************\n",
      "T-test for feature previous_40\n",
      "t-stat is 0.9999999999999999, pval is 0.3173165690640168\n",
      "Cannot reject null hypothesis for feature: previous_40\n",
      "Feature: previous_40 is not significant for the model\n",
      "**********************\n",
      "T-test for feature previous_41\n",
      "t-stat is 0.9999999999999999, pval is 0.3173165690640168\n",
      "Cannot reject null hypothesis for feature: previous_41\n",
      "Feature: previous_41 is not significant for the model\n",
      "**********************\n",
      "T-test for feature previous_5\n",
      "t-stat is -6.841047585293641, pval is 8.666394455106073e-12\n",
      "Can reject null hypothesis for feature: previous_5\n",
      "Feature: previous_5 is significant for the model\n",
      "**********************\n",
      "T-test for feature previous_51\n",
      "t-stat is 0.9999999999999999, pval is 0.3173165690640168\n",
      "Cannot reject null hypothesis for feature: previous_51\n",
      "Feature: previous_51 is not significant for the model\n",
      "**********************\n",
      "T-test for feature previous_55\n",
      "t-stat is -0.9999999999999999, pval is 0.31735626415726853\n",
      "Cannot reject null hypothesis for feature: previous_55\n",
      "Feature: previous_55 is not significant for the model\n",
      "**********************\n",
      "T-test for feature previous_58\n",
      "t-stat is -1.0, pval is 0.3173562641572684\n",
      "Cannot reject null hypothesis for feature: previous_58\n",
      "Feature: previous_58 is not significant for the model\n",
      "**********************\n",
      "T-test for feature previous_6\n",
      "t-stat is -6.211157414046353, pval is 5.629171176727722e-10\n",
      "Can reject null hypothesis for feature: previous_6\n",
      "Feature: previous_6 is significant for the model\n",
      "**********************\n",
      "T-test for feature previous_7\n",
      "t-stat is -4.538759026657131, pval is 5.772460811490191e-06\n",
      "Can reject null hypothesis for feature: previous_7\n",
      "Feature: previous_7 is significant for the model\n",
      "**********************\n",
      "T-test for feature previous_8\n",
      "t-stat is -4.265423482399366, pval is 2.0273694624766615e-05\n",
      "Can reject null hypothesis for feature: previous_8\n",
      "Feature: previous_8 is significant for the model\n",
      "**********************\n",
      "T-test for feature previous_9\n",
      "t-stat is -2.993015184128548, pval is 0.00277394782447957\n",
      "Can reject null hypothesis for feature: previous_9\n",
      "Feature: previous_9 is significant for the model\n",
      "**********************\n",
      "T-test for feature poutcome_other\n"
     ]
    },
    {
     "name": "stdout",
     "output_type": "stream",
     "text": [
      "t-stat is -5.853257825194541, pval is 5.064091412396398e-09\n",
      "Can reject null hypothesis for feature: poutcome_other\n",
      "Feature: poutcome_other is significant for the model\n",
      "**********************\n",
      "T-test for feature poutcome_success\n",
      "t-stat is -31.95067636042367, pval is 2.316000964349343e-205\n",
      "Can reject null hypothesis for feature: poutcome_success\n",
      "Feature: poutcome_success is significant for the model\n",
      "**********************\n",
      "T-test for feature poutcome_unknown\n",
      "t-stat is 29.31310061761245, pval is 7.108764492493816e-177\n",
      "Can reject null hypothesis for feature: poutcome_unknown\n",
      "Feature: poutcome_unknown is significant for the model\n",
      "**********************\n",
      "T-test for feature pdays_new_y\n",
      "t-stat is 29.350674550283596, pval is 2.7021727011182018e-177\n",
      "Can reject null hypothesis for feature: pdays_new_y\n",
      "Feature: pdays_new_y is significant for the model\n",
      "**********************\n"
     ]
    }
   ],
   "source": [
    "from scipy.stats import ttest_ind\n",
    "\n",
    "df_y0 = df[df['y'] == 0]\n",
    "df_y1 = df[df['y'] == 1]\n",
    "\n",
    "selected_features = []\n",
    "rejected_features = []\n",
    "\n",
    "for x in df.columns:\n",
    "    if x not in ['y']:\n",
    "        print(f'T-test for feature {x}')\n",
    "        a,b = ttest_ind(df_y0[x], df_y1[x], equal_var=False)\n",
    "        print(f't-stat is {a}, pval is {b}')\n",
    "        \n",
    "        if b<0.05:\n",
    "            print(f'Can reject null hypothesis for feature: {x}')\n",
    "            print(f'Feature: {x} is significant for the model')\n",
    "            selected_features.append(x)\n",
    "            \n",
    "        elif b>0.05:\n",
    "            print(f'Cannot reject null hypothesis for feature: {x}')\n",
    "            print(f'Feature: {x} is not significant for the model')\n",
    "            rejected_features.append(x)\n",
    "        \n",
    "        print(f'**********************')"
   ]
  },
  {
   "cell_type": "code",
   "execution_count": 35,
   "metadata": {},
   "outputs": [
    {
     "name": "stdout",
     "output_type": "stream",
     "text": [
      "['age', 'balance', 'duration', 'pdays', 'job_blue-collar', 'job_entrepreneur', 'job_housemaid', 'job_management', 'job_retired', 'job_services', 'job_student', 'job_unemployed', 'marital_married', 'marital_single', 'education_secondary', 'education_tertiary', 'education_unknown', 'default_yes', 'housing_yes', 'loan_yes', 'contact_telephone', 'contact_unknown', 'day_10', 'day_12', 'day_13', 'day_15', 'day_16', 'day_17', 'day_18', 'day_19', 'day_2', 'day_20', 'day_21', 'day_22', 'day_25', 'day_28', 'day_29', 'day_3', 'day_30', 'day_31', 'day_4', 'day_6', 'day_7', 'month_dec', 'month_feb', 'month_jan', 'month_jul', 'month_jun', 'month_mar', 'month_may', 'month_nov', 'month_oct', 'month_sep', 'campaign_10', 'campaign_12', 'campaign_13', 'campaign_14', 'campaign_15', 'campaign_16', 'campaign_18', 'campaign_19', 'campaign_2', 'campaign_20', 'campaign_21', 'campaign_22', 'campaign_23', 'campaign_25', 'campaign_26', 'campaign_27', 'campaign_28', 'campaign_30', 'campaign_31', 'campaign_33', 'campaign_34', 'campaign_35', 'campaign_36', 'campaign_4', 'campaign_5', 'campaign_6', 'campaign_7', 'campaign_8', 'campaign_9', 'previous_1', 'previous_10', 'previous_11', 'previous_16', 'previous_18', 'previous_2', 'previous_24', 'previous_25', 'previous_27', 'previous_3', 'previous_4', 'previous_5', 'previous_6', 'previous_7', 'previous_8', 'previous_9', 'poutcome_other', 'poutcome_success', 'poutcome_unknown', 'pdays_new_y']\n"
     ]
    }
   ],
   "source": [
    "print(selected_features)"
   ]
  },
  {
   "cell_type": "code",
   "execution_count": 36,
   "metadata": {},
   "outputs": [
    {
     "name": "stdout",
     "output_type": "stream",
     "text": [
      "['job_self-employed', 'job_technician', 'job_unknown', 'day_11', 'day_14', 'day_23', 'day_24', 'day_26', 'day_27', 'day_5', 'day_8', 'day_9', 'month_aug', 'campaign_11', 'campaign_17', 'campaign_24', 'campaign_29', 'campaign_3', 'campaign_32', 'campaign_37', 'campaign_38', 'campaign_39', 'campaign_41', 'campaign_43', 'campaign_44', 'campaign_46', 'campaign_50', 'campaign_51', 'campaign_55', 'campaign_58', 'campaign_63', 'previous_12', 'previous_13', 'previous_14', 'previous_15', 'previous_17', 'previous_19', 'previous_20', 'previous_21', 'previous_22', 'previous_23', 'previous_26', 'previous_275', 'previous_28', 'previous_29', 'previous_30', 'previous_32', 'previous_35', 'previous_37', 'previous_38', 'previous_40', 'previous_41', 'previous_51', 'previous_55', 'previous_58']\n"
     ]
    }
   ],
   "source": [
    "print(rejected_features)"
   ]
  },
  {
   "cell_type": "code",
   "execution_count": null,
   "metadata": {},
   "outputs": [],
   "source": []
  },
  {
   "cell_type": "code",
   "execution_count": 37,
   "metadata": {},
   "outputs": [
    {
     "name": "stderr",
     "output_type": "stream",
     "text": [
      "<ipython-input-37-dd5cf6439326>:2: SettingWithCopyWarning: \n",
      "A value is trying to be set on a copy of a slice from a DataFrame.\n",
      "Try using .loc[row_indexer,col_indexer] = value instead\n",
      "\n",
      "See the caveats in the documentation: https://pandas.pydata.org/pandas-docs/stable/user_guide/indexing.html#returning-a-view-versus-a-copy\n",
      "  df_x['y'] = df['y']\n"
     ]
    }
   ],
   "source": [
    "df_x = df[selected_features]\n",
    "df_x['y'] = df['y']\n",
    "df = df_x.copy()"
   ]
  },
  {
   "cell_type": "code",
   "execution_count": 38,
   "metadata": {},
   "outputs": [
    {
     "data": {
      "text/html": [
       "<div>\n",
       "<style scoped>\n",
       "    .dataframe tbody tr th:only-of-type {\n",
       "        vertical-align: middle;\n",
       "    }\n",
       "\n",
       "    .dataframe tbody tr th {\n",
       "        vertical-align: top;\n",
       "    }\n",
       "\n",
       "    .dataframe thead th {\n",
       "        text-align: right;\n",
       "    }\n",
       "</style>\n",
       "<table border=\"1\" class=\"dataframe\">\n",
       "  <thead>\n",
       "    <tr style=\"text-align: right;\">\n",
       "      <th></th>\n",
       "      <th>age</th>\n",
       "      <th>balance</th>\n",
       "      <th>duration</th>\n",
       "      <th>pdays</th>\n",
       "      <th>job_blue-collar</th>\n",
       "      <th>job_entrepreneur</th>\n",
       "      <th>job_housemaid</th>\n",
       "      <th>job_management</th>\n",
       "      <th>job_retired</th>\n",
       "      <th>job_services</th>\n",
       "      <th>...</th>\n",
       "      <th>previous_5</th>\n",
       "      <th>previous_6</th>\n",
       "      <th>previous_7</th>\n",
       "      <th>previous_8</th>\n",
       "      <th>previous_9</th>\n",
       "      <th>poutcome_other</th>\n",
       "      <th>poutcome_success</th>\n",
       "      <th>poutcome_unknown</th>\n",
       "      <th>pdays_new_y</th>\n",
       "      <th>y</th>\n",
       "    </tr>\n",
       "  </thead>\n",
       "  <tbody>\n",
       "    <tr>\n",
       "      <th>0</th>\n",
       "      <td>0.519481</td>\n",
       "      <td>0.092259</td>\n",
       "      <td>0.053070</td>\n",
       "      <td>0.0</td>\n",
       "      <td>0</td>\n",
       "      <td>0</td>\n",
       "      <td>0</td>\n",
       "      <td>1</td>\n",
       "      <td>0</td>\n",
       "      <td>0</td>\n",
       "      <td>...</td>\n",
       "      <td>0</td>\n",
       "      <td>0</td>\n",
       "      <td>0</td>\n",
       "      <td>0</td>\n",
       "      <td>0</td>\n",
       "      <td>0</td>\n",
       "      <td>0</td>\n",
       "      <td>1</td>\n",
       "      <td>1</td>\n",
       "      <td>0</td>\n",
       "    </tr>\n",
       "    <tr>\n",
       "      <th>1</th>\n",
       "      <td>0.337662</td>\n",
       "      <td>0.073067</td>\n",
       "      <td>0.030704</td>\n",
       "      <td>0.0</td>\n",
       "      <td>0</td>\n",
       "      <td>0</td>\n",
       "      <td>0</td>\n",
       "      <td>0</td>\n",
       "      <td>0</td>\n",
       "      <td>0</td>\n",
       "      <td>...</td>\n",
       "      <td>0</td>\n",
       "      <td>0</td>\n",
       "      <td>0</td>\n",
       "      <td>0</td>\n",
       "      <td>0</td>\n",
       "      <td>0</td>\n",
       "      <td>0</td>\n",
       "      <td>1</td>\n",
       "      <td>1</td>\n",
       "      <td>0</td>\n",
       "    </tr>\n",
       "    <tr>\n",
       "      <th>2</th>\n",
       "      <td>0.194805</td>\n",
       "      <td>0.072822</td>\n",
       "      <td>0.015453</td>\n",
       "      <td>0.0</td>\n",
       "      <td>0</td>\n",
       "      <td>1</td>\n",
       "      <td>0</td>\n",
       "      <td>0</td>\n",
       "      <td>0</td>\n",
       "      <td>0</td>\n",
       "      <td>...</td>\n",
       "      <td>0</td>\n",
       "      <td>0</td>\n",
       "      <td>0</td>\n",
       "      <td>0</td>\n",
       "      <td>0</td>\n",
       "      <td>0</td>\n",
       "      <td>0</td>\n",
       "      <td>1</td>\n",
       "      <td>1</td>\n",
       "      <td>0</td>\n",
       "    </tr>\n",
       "    <tr>\n",
       "      <th>3</th>\n",
       "      <td>0.376623</td>\n",
       "      <td>0.086476</td>\n",
       "      <td>0.018707</td>\n",
       "      <td>0.0</td>\n",
       "      <td>1</td>\n",
       "      <td>0</td>\n",
       "      <td>0</td>\n",
       "      <td>0</td>\n",
       "      <td>0</td>\n",
       "      <td>0</td>\n",
       "      <td>...</td>\n",
       "      <td>0</td>\n",
       "      <td>0</td>\n",
       "      <td>0</td>\n",
       "      <td>0</td>\n",
       "      <td>0</td>\n",
       "      <td>0</td>\n",
       "      <td>0</td>\n",
       "      <td>1</td>\n",
       "      <td>1</td>\n",
       "      <td>0</td>\n",
       "    </tr>\n",
       "    <tr>\n",
       "      <th>4</th>\n",
       "      <td>0.194805</td>\n",
       "      <td>0.072812</td>\n",
       "      <td>0.040260</td>\n",
       "      <td>0.0</td>\n",
       "      <td>0</td>\n",
       "      <td>0</td>\n",
       "      <td>0</td>\n",
       "      <td>0</td>\n",
       "      <td>0</td>\n",
       "      <td>0</td>\n",
       "      <td>...</td>\n",
       "      <td>0</td>\n",
       "      <td>0</td>\n",
       "      <td>0</td>\n",
       "      <td>0</td>\n",
       "      <td>0</td>\n",
       "      <td>0</td>\n",
       "      <td>0</td>\n",
       "      <td>1</td>\n",
       "      <td>1</td>\n",
       "      <td>0</td>\n",
       "    </tr>\n",
       "  </tbody>\n",
       "</table>\n",
       "<p>5 rows × 103 columns</p>\n",
       "</div>"
      ],
      "text/plain": [
       "        age   balance  duration  pdays  job_blue-collar  job_entrepreneur  \\\n",
       "0  0.519481  0.092259  0.053070    0.0                0                 0   \n",
       "1  0.337662  0.073067  0.030704    0.0                0                 0   \n",
       "2  0.194805  0.072822  0.015453    0.0                0                 1   \n",
       "3  0.376623  0.086476  0.018707    0.0                1                 0   \n",
       "4  0.194805  0.072812  0.040260    0.0                0                 0   \n",
       "\n",
       "   job_housemaid  job_management  job_retired  job_services  ...  previous_5  \\\n",
       "0              0               1            0             0  ...           0   \n",
       "1              0               0            0             0  ...           0   \n",
       "2              0               0            0             0  ...           0   \n",
       "3              0               0            0             0  ...           0   \n",
       "4              0               0            0             0  ...           0   \n",
       "\n",
       "   previous_6  previous_7  previous_8  previous_9  poutcome_other  \\\n",
       "0           0           0           0           0               0   \n",
       "1           0           0           0           0               0   \n",
       "2           0           0           0           0               0   \n",
       "3           0           0           0           0               0   \n",
       "4           0           0           0           0               0   \n",
       "\n",
       "   poutcome_success  poutcome_unknown  pdays_new_y  y  \n",
       "0                 0                 1            1  0  \n",
       "1                 0                 1            1  0  \n",
       "2                 0                 1            1  0  \n",
       "3                 0                 1            1  0  \n",
       "4                 0                 1            1  0  \n",
       "\n",
       "[5 rows x 103 columns]"
      ]
     },
     "execution_count": 38,
     "metadata": {},
     "output_type": "execute_result"
    }
   ],
   "source": [
    "df.head()"
   ]
  },
  {
   "cell_type": "code",
   "execution_count": null,
   "metadata": {},
   "outputs": [],
   "source": []
  },
  {
   "cell_type": "code",
   "execution_count": null,
   "metadata": {},
   "outputs": [],
   "source": []
  },
  {
   "cell_type": "code",
   "execution_count": 39,
   "metadata": {},
   "outputs": [
    {
     "data": {
      "image/png": "[encoded data removed]",
      "text/plain": [
       "<Figure size 432x288 with 1 Axes>"
      ]
     },
     "metadata": {
      "needs_background": "light"
     },
     "output_type": "display_data"
    }
   ],
   "source": [
    "plt.scatter(df.age[df.y == 0], df.balance[df.y == 0], label=\"Class #0\", alpha=0.5, linewidth=0.15)\n",
    "plt.scatter(df.age[df.y == 1], df.balance[df.y == 1], label=\"Class #1\", alpha=0.5, linewidth=0.15, c='r')\n",
    "plt.legend()\n",
    "plt.show()"
   ]
  },
  {
   "cell_type": "code",
   "execution_count": null,
   "metadata": {},
   "outputs": [],
   "source": []
  },
  {
   "cell_type": "code",
   "execution_count": 40,
   "metadata": {},
   "outputs": [
    {
     "data": {
      "text/html": [
       "<div>\n",
       "<style scoped>\n",
       "    .dataframe tbody tr th:only-of-type {\n",
       "        vertical-align: middle;\n",
       "    }\n",
       "\n",
       "    .dataframe tbody tr th {\n",
       "        vertical-align: top;\n",
       "    }\n",
       "\n",
       "    .dataframe thead th {\n",
       "        text-align: right;\n",
       "    }\n",
       "</style>\n",
       "<table border=\"1\" class=\"dataframe\">\n",
       "  <thead>\n",
       "    <tr style=\"text-align: right;\">\n",
       "      <th></th>\n",
       "      <th>age</th>\n",
       "      <th>balance</th>\n",
       "      <th>duration</th>\n",
       "      <th>pdays</th>\n",
       "      <th>job_blue-collar</th>\n",
       "      <th>job_entrepreneur</th>\n",
       "      <th>job_housemaid</th>\n",
       "      <th>job_management</th>\n",
       "      <th>job_retired</th>\n",
       "      <th>job_services</th>\n",
       "      <th>...</th>\n",
       "      <th>previous_4</th>\n",
       "      <th>previous_5</th>\n",
       "      <th>previous_6</th>\n",
       "      <th>previous_7</th>\n",
       "      <th>previous_8</th>\n",
       "      <th>previous_9</th>\n",
       "      <th>poutcome_other</th>\n",
       "      <th>poutcome_success</th>\n",
       "      <th>poutcome_unknown</th>\n",
       "      <th>pdays_new_y</th>\n",
       "    </tr>\n",
       "  </thead>\n",
       "  <tbody>\n",
       "    <tr>\n",
       "      <th>0</th>\n",
       "      <td>0.519481</td>\n",
       "      <td>0.092259</td>\n",
       "      <td>0.053070</td>\n",
       "      <td>0.0</td>\n",
       "      <td>0</td>\n",
       "      <td>0</td>\n",
       "      <td>0</td>\n",
       "      <td>1</td>\n",
       "      <td>0</td>\n",
       "      <td>0</td>\n",
       "      <td>...</td>\n",
       "      <td>0</td>\n",
       "      <td>0</td>\n",
       "      <td>0</td>\n",
       "      <td>0</td>\n",
       "      <td>0</td>\n",
       "      <td>0</td>\n",
       "      <td>0</td>\n",
       "      <td>0</td>\n",
       "      <td>1</td>\n",
       "      <td>1</td>\n",
       "    </tr>\n",
       "    <tr>\n",
       "      <th>1</th>\n",
       "      <td>0.337662</td>\n",
       "      <td>0.073067</td>\n",
       "      <td>0.030704</td>\n",
       "      <td>0.0</td>\n",
       "      <td>0</td>\n",
       "      <td>0</td>\n",
       "      <td>0</td>\n",
       "      <td>0</td>\n",
       "      <td>0</td>\n",
       "      <td>0</td>\n",
       "      <td>...</td>\n",
       "      <td>0</td>\n",
       "      <td>0</td>\n",
       "      <td>0</td>\n",
       "      <td>0</td>\n",
       "      <td>0</td>\n",
       "      <td>0</td>\n",
       "      <td>0</td>\n",
       "      <td>0</td>\n",
       "      <td>1</td>\n",
       "      <td>1</td>\n",
       "    </tr>\n",
       "    <tr>\n",
       "      <th>2</th>\n",
       "      <td>0.194805</td>\n",
       "      <td>0.072822</td>\n",
       "      <td>0.015453</td>\n",
       "      <td>0.0</td>\n",
       "      <td>0</td>\n",
       "      <td>1</td>\n",
       "      <td>0</td>\n",
       "      <td>0</td>\n",
       "      <td>0</td>\n",
       "      <td>0</td>\n",
       "      <td>...</td>\n",
       "      <td>0</td>\n",
       "      <td>0</td>\n",
       "      <td>0</td>\n",
       "      <td>0</td>\n",
       "      <td>0</td>\n",
       "      <td>0</td>\n",
       "      <td>0</td>\n",
       "      <td>0</td>\n",
       "      <td>1</td>\n",
       "      <td>1</td>\n",
       "    </tr>\n",
       "    <tr>\n",
       "      <th>3</th>\n",
       "      <td>0.376623</td>\n",
       "      <td>0.086476</td>\n",
       "      <td>0.018707</td>\n",
       "      <td>0.0</td>\n",
       "      <td>1</td>\n",
       "      <td>0</td>\n",
       "      <td>0</td>\n",
       "      <td>0</td>\n",
       "      <td>0</td>\n",
       "      <td>0</td>\n",
       "      <td>...</td>\n",
       "      <td>0</td>\n",
       "      <td>0</td>\n",
       "      <td>0</td>\n",
       "      <td>0</td>\n",
       "      <td>0</td>\n",
       "      <td>0</td>\n",
       "      <td>0</td>\n",
       "      <td>0</td>\n",
       "      <td>1</td>\n",
       "      <td>1</td>\n",
       "    </tr>\n",
       "    <tr>\n",
       "      <th>4</th>\n",
       "      <td>0.194805</td>\n",
       "      <td>0.072812</td>\n",
       "      <td>0.040260</td>\n",
       "      <td>0.0</td>\n",
       "      <td>0</td>\n",
       "      <td>0</td>\n",
       "      <td>0</td>\n",
       "      <td>0</td>\n",
       "      <td>0</td>\n",
       "      <td>0</td>\n",
       "      <td>...</td>\n",
       "      <td>0</td>\n",
       "      <td>0</td>\n",
       "      <td>0</td>\n",
       "      <td>0</td>\n",
       "      <td>0</td>\n",
       "      <td>0</td>\n",
       "      <td>0</td>\n",
       "      <td>0</td>\n",
       "      <td>1</td>\n",
       "      <td>1</td>\n",
       "    </tr>\n",
       "  </tbody>\n",
       "</table>\n",
       "<p>5 rows × 102 columns</p>\n",
       "</div>"
      ],
      "text/plain": [
       "        age   balance  duration  pdays  job_blue-collar  job_entrepreneur  \\\n",
       "0  0.519481  0.092259  0.053070    0.0                0                 0   \n",
       "1  0.337662  0.073067  0.030704    0.0                0                 0   \n",
       "2  0.194805  0.072822  0.015453    0.0                0                 1   \n",
       "3  0.376623  0.086476  0.018707    0.0                1                 0   \n",
       "4  0.194805  0.072812  0.040260    0.0                0                 0   \n",
       "\n",
       "   job_housemaid  job_management  job_retired  job_services  ...  previous_4  \\\n",
       "0              0               1            0             0  ...           0   \n",
       "1              0               0            0             0  ...           0   \n",
       "2              0               0            0             0  ...           0   \n",
       "3              0               0            0             0  ...           0   \n",
       "4              0               0            0             0  ...           0   \n",
       "\n",
       "   previous_5  previous_6  previous_7  previous_8  previous_9  poutcome_other  \\\n",
       "0           0           0           0           0           0               0   \n",
       "1           0           0           0           0           0               0   \n",
       "2           0           0           0           0           0               0   \n",
       "3           0           0           0           0           0               0   \n",
       "4           0           0           0           0           0               0   \n",
       "\n",
       "   poutcome_success  poutcome_unknown  pdays_new_y  \n",
       "0                 0                 1            1  \n",
       "1                 0                 1            1  \n",
       "2                 0                 1            1  \n",
       "3                 0                 1            1  \n",
       "4                 0                 1            1  \n",
       "\n",
       "[5 rows x 102 columns]"
      ]
     },
     "execution_count": 40,
     "metadata": {},
     "output_type": "execute_result"
    }
   ],
   "source": [
    "X = df.iloc[:,:-1]\n",
    "y = df['y']\n",
    "X.head()"
   ]
  },
  {
   "cell_type": "code",
   "execution_count": null,
   "metadata": {},
   "outputs": [],
   "source": []
  },
  {
   "cell_type": "code",
   "execution_count": 41,
   "metadata": {},
   "outputs": [],
   "source": [
    "from sklearn.model_selection import train_test_split\n",
    "X_train, X_test, y_train, y_test = \\\n",
    "train_test_split(X,y,test_size=0.2)"
   ]
  },
  {
   "cell_type": "code",
   "execution_count": 42,
   "metadata": {},
   "outputs": [
    {
     "name": "stderr",
     "output_type": "stream",
     "text": [
      "C:\\Users\\ad20270862\\Anaconda3\\lib\\site-packages\\xgboost\\sklearn.py:1224: UserWarning: The use of label encoder in XGBClassifier is deprecated and will be removed in a future release. To remove this warning, do the following: 1) Pass option use_label_encoder=False when constructing XGBClassifier object; and 2) Encode your labels (y) as integers starting with 0, i.e. 0, 1, 2, ..., [num_class - 1].\n",
      "  warnings.warn(label_encoder_deprecation_msg, UserWarning)\n"
     ]
    },
    {
     "name": "stdout",
     "output_type": "stream",
     "text": [
      "[14:20:31] WARNING: C:/Users/Administrator/workspace/xgboost-win64_release_1.5.1/src/learner.cc:1115: Starting in XGBoost 1.3.0, the default evaluation metric used with the objective 'binary:logistic' was changed from 'error' to 'logloss'. Explicitly set eval_metric if you'd like to restore the old behavior.\n"
     ]
    }
   ],
   "source": [
    "from sklearn.neighbors import KNeighborsClassifier\n",
    "from sklearn.ensemble import RandomForestClassifier\n",
    "from xgboost import XGBClassifier\n",
    "model = XGBClassifier()\n",
    "model.fit(X_train,y_train)\n",
    "y_predict = model.predict(X_test)"
   ]
  },
  {
   "cell_type": "code",
   "execution_count": 43,
   "metadata": {
    "scrolled": true
   },
   "outputs": [
    {
     "name": "stdout",
     "output_type": "stream",
     "text": [
      "0.9065575583324118\n"
     ]
    },
    {
     "data": {
      "text/html": [
       "<div>\n",
       "<style scoped>\n",
       "    .dataframe tbody tr th:only-of-type {\n",
       "        vertical-align: middle;\n",
       "    }\n",
       "\n",
       "    .dataframe tbody tr th {\n",
       "        vertical-align: top;\n",
       "    }\n",
       "\n",
       "    .dataframe thead th {\n",
       "        text-align: right;\n",
       "    }\n",
       "</style>\n",
       "<table border=\"1\" class=\"dataframe\">\n",
       "  <thead>\n",
       "    <tr style=\"text-align: right;\">\n",
       "      <th>col_0</th>\n",
       "      <th>0</th>\n",
       "      <th>1</th>\n",
       "    </tr>\n",
       "    <tr>\n",
       "      <th>y</th>\n",
       "      <th></th>\n",
       "      <th></th>\n",
       "    </tr>\n",
       "  </thead>\n",
       "  <tbody>\n",
       "    <tr>\n",
       "      <th>0</th>\n",
       "      <td>7727</td>\n",
       "      <td>265</td>\n",
       "    </tr>\n",
       "    <tr>\n",
       "      <th>1</th>\n",
       "      <td>580</td>\n",
       "      <td>471</td>\n",
       "    </tr>\n",
       "  </tbody>\n",
       "</table>\n",
       "</div>"
      ],
      "text/plain": [
       "col_0     0    1\n",
       "y               \n",
       "0      7727  265\n",
       "1       580  471"
      ]
     },
     "execution_count": 43,
     "metadata": {},
     "output_type": "execute_result"
    }
   ],
   "source": [
    "from sklearn.metrics import accuracy_score, precision_score, recall_score\n",
    "from sklearn.metrics import f1_score\n",
    "print(accuracy_score(y_test,y_predict))\n",
    "pd.crosstab(y_test,y_predict)"
   ]
  },
  {
   "cell_type": "code",
   "execution_count": 44,
   "metadata": {},
   "outputs": [
    {
     "name": "stdout",
     "output_type": "stream",
     "text": [
      "0.6399456521739131\n"
     ]
    }
   ],
   "source": [
    "print(precision_score(y_test,y_predict))"
   ]
  },
  {
   "cell_type": "code",
   "execution_count": 45,
   "metadata": {},
   "outputs": [
    {
     "name": "stdout",
     "output_type": "stream",
     "text": [
      "0.44814462416745954\n"
     ]
    }
   ],
   "source": [
    "print(recall_score(y_test,y_predict))"
   ]
  },
  {
   "cell_type": "code",
   "execution_count": 46,
   "metadata": {},
   "outputs": [
    {
     "name": "stdout",
     "output_type": "stream",
     "text": [
      "0.5271404588696138\n"
     ]
    }
   ],
   "source": [
    "print(f1_score(y_test,y_predict))"
   ]
  },
  {
   "cell_type": "code",
   "execution_count": null,
   "metadata": {},
   "outputs": [],
   "source": []
  },
  {
   "cell_type": "code",
   "execution_count": 47,
   "metadata": {},
   "outputs": [],
   "source": [
    "from imblearn.over_sampling import SMOTE\n",
    "smote = SMOTE()\n",
    "X_train_smote, y_train_smote = \\\n",
    "smote.fit_resample(X_train.astype('float'), y_train)"
   ]
  },
  {
   "cell_type": "code",
   "execution_count": 48,
   "metadata": {},
   "outputs": [],
   "source": [
    "df_new = X_train_smote.copy()\n",
    "df_new['y'] = y_train_smote"
   ]
  },
  {
   "cell_type": "code",
   "execution_count": 49,
   "metadata": {},
   "outputs": [
    {
     "data": {
      "image/png": "[encoded data removed]",
      "text/plain": [
       "<Figure size 432x288 with 2 Axes>"
      ]
     },
     "metadata": {
      "needs_background": "light"
     },
     "output_type": "display_data"
    }
   ],
   "source": [
    "plt.subplot(1, 2, 1)\n",
    "plt.scatter(df.age[df.y == 0], df.balance[df.y == 0], label=\"Class #0\", alpha=0.5, linewidth=0.15)\n",
    "plt.scatter(df.age[df.y == 1], df.balance[df.y == 1], label=\"Class #1\", alpha=0.5, linewidth=0.15, c='r')\n",
    "plt.title('Original Set')\n",
    "plt.legend(loc='best')\n",
    "\n",
    "plt.subplot(1, 2, 2)\n",
    "plt.scatter(df_new.age[df_new.y == 0], df_new.balance[df_new.y == 0], label=\"Class #0\", alpha=0.5, linewidth=0.15)\n",
    "plt.scatter(df_new.age[df_new.y == 1], df_new.balance[df_new.y == 1], label=\"Class #1\", alpha=0.5, linewidth=0.15, c='r')\n",
    "plt.title('SMOTE')\n",
    "plt.legend(loc='best')\n",
    "plt.show()"
   ]
  },
  {
   "cell_type": "code",
   "execution_count": null,
   "metadata": {},
   "outputs": [],
   "source": []
  },
  {
   "cell_type": "code",
   "execution_count": 50,
   "metadata": {},
   "outputs": [],
   "source": [
    "#pip install collections"
   ]
  },
  {
   "cell_type": "code",
   "execution_count": 51,
   "metadata": {
    "scrolled": true
   },
   "outputs": [
    {
     "name": "stdout",
     "output_type": "stream",
     "text": [
      "Before SMOTE : Counter({0: 31930, 1: 4238})\n",
      "After SMOTE : Counter({0: 31930, 1: 31930})\n"
     ]
    }
   ],
   "source": [
    "from collections import Counter\n",
    "print(\"Before SMOTE :\" , Counter(y_train))\n",
    "print(\"After SMOTE :\" , Counter(y_train_smote))"
   ]
  },
  {
   "cell_type": "code",
   "execution_count": 52,
   "metadata": {
    "scrolled": false
   },
   "outputs": [
    {
     "data": {
      "text/plain": [
       "102"
      ]
     },
     "execution_count": 52,
     "metadata": {},
     "output_type": "execute_result"
    }
   ],
   "source": [
    "len(X_train.columns)"
   ]
  },
  {
   "cell_type": "code",
   "execution_count": 53,
   "metadata": {},
   "outputs": [
    {
     "data": {
      "text/plain": [
       "102"
      ]
     },
     "execution_count": 53,
     "metadata": {},
     "output_type": "execute_result"
    }
   ],
   "source": [
    "len(X_train_smote.columns)"
   ]
  },
  {
   "cell_type": "code",
   "execution_count": 54,
   "metadata": {},
   "outputs": [
    {
     "data": {
      "text/plain": [
       "102"
      ]
     },
     "execution_count": 54,
     "metadata": {},
     "output_type": "execute_result"
    }
   ],
   "source": [
    "len(X_test.columns)"
   ]
  },
  {
   "cell_type": "code",
   "execution_count": null,
   "metadata": {},
   "outputs": [],
   "source": []
  },
  {
   "cell_type": "code",
   "execution_count": 55,
   "metadata": {},
   "outputs": [
    {
     "name": "stderr",
     "output_type": "stream",
     "text": [
      "C:\\Users\\ad20270862\\Anaconda3\\lib\\site-packages\\xgboost\\sklearn.py:1224: UserWarning: The use of label encoder in XGBClassifier is deprecated and will be removed in a future release. To remove this warning, do the following: 1) Pass option use_label_encoder=False when constructing XGBClassifier object; and 2) Encode your labels (y) as integers starting with 0, i.e. 0, 1, 2, ..., [num_class - 1].\n",
      "  warnings.warn(label_encoder_deprecation_msg, UserWarning)\n"
     ]
    },
    {
     "name": "stdout",
     "output_type": "stream",
     "text": [
      "[14:20:50] WARNING: C:/Users/Administrator/workspace/xgboost-win64_release_1.5.1/src/learner.cc:1115: Starting in XGBoost 1.3.0, the default evaluation metric used with the objective 'binary:logistic' was changed from 'error' to 'logloss'. Explicitly set eval_metric if you'd like to restore the old behavior.\n",
      "0.8960521950680084\n"
     ]
    },
    {
     "data": {
      "text/html": [
       "<div>\n",
       "<style scoped>\n",
       "    .dataframe tbody tr th:only-of-type {\n",
       "        vertical-align: middle;\n",
       "    }\n",
       "\n",
       "    .dataframe tbody tr th {\n",
       "        vertical-align: top;\n",
       "    }\n",
       "\n",
       "    .dataframe thead th {\n",
       "        text-align: right;\n",
       "    }\n",
       "</style>\n",
       "<table border=\"1\" class=\"dataframe\">\n",
       "  <thead>\n",
       "    <tr style=\"text-align: right;\">\n",
       "      <th>col_0</th>\n",
       "      <th>0</th>\n",
       "      <th>1</th>\n",
       "    </tr>\n",
       "    <tr>\n",
       "      <th>y</th>\n",
       "      <th></th>\n",
       "      <th></th>\n",
       "    </tr>\n",
       "  </thead>\n",
       "  <tbody>\n",
       "    <tr>\n",
       "      <th>0</th>\n",
       "      <td>7515</td>\n",
       "      <td>477</td>\n",
       "    </tr>\n",
       "    <tr>\n",
       "      <th>1</th>\n",
       "      <td>463</td>\n",
       "      <td>588</td>\n",
       "    </tr>\n",
       "  </tbody>\n",
       "</table>\n",
       "</div>"
      ],
      "text/plain": [
       "col_0     0    1\n",
       "y               \n",
       "0      7515  477\n",
       "1       463  588"
      ]
     },
     "execution_count": 55,
     "metadata": {},
     "output_type": "execute_result"
    }
   ],
   "source": [
    "model.fit(X_train_smote,y_train_smote)\n",
    "y_predict = model.predict(X_test)\n",
    "print(accuracy_score(y_test,y_predict))\n",
    "pd.crosstab(y_test,y_predict)"
   ]
  },
  {
   "cell_type": "code",
   "execution_count": 56,
   "metadata": {},
   "outputs": [
    {
     "name": "stdout",
     "output_type": "stream",
     "text": [
      "0.5521126760563381\n"
     ]
    }
   ],
   "source": [
    "print(precision_score(y_test,y_predict))"
   ]
  },
  {
   "cell_type": "code",
   "execution_count": 57,
   "metadata": {},
   "outputs": [
    {
     "name": "stdout",
     "output_type": "stream",
     "text": [
      "0.5594671741198858\n"
     ]
    }
   ],
   "source": [
    "print(recall_score(y_test,y_predict))"
   ]
  },
  {
   "cell_type": "code",
   "execution_count": 58,
   "metadata": {},
   "outputs": [
    {
     "name": "stdout",
     "output_type": "stream",
     "text": [
      "0.5557655954631379\n"
     ]
    }
   ],
   "source": [
    "print(f1_score(y_test,y_predict))"
   ]
  },
  {
   "cell_type": "code",
   "execution_count": null,
   "metadata": {},
   "outputs": [],
   "source": []
  },
  {
   "cell_type": "code",
   "execution_count": 59,
   "metadata": {},
   "outputs": [
    {
     "data": {
      "image/png": "[encoded data removed]",
      "text/plain": [
       "<Figure size 432x288 with 1 Axes>"
      ]
     },
     "metadata": {
      "needs_background": "light"
     },
     "output_type": "display_data"
    }
   ],
   "source": [
    "from sklearn.metrics import roc_auc_score\n",
    "from sklearn.metrics import roc_curve\n",
    "logit_roc_auc = roc_auc_score(y_test, model.predict(X_test))\n",
    "fpr, tpr, thresholds = roc_curve(y_test, model.predict_proba(X_test)[:,1])\n",
    "plt.plot(fpr, tpr, label='Model (area = %0.2f)' % logit_roc_auc)\n",
    "plt.plot([0, 1], [0, 1],'r--')\n",
    "plt.xlim([0.0, 1.0])\n",
    "plt.ylim([0.0, 1.05])\n",
    "plt.xlabel('False Positive Rate')\n",
    "plt.ylabel('True Positive Rate')\n",
    "plt.title('Receiver operating characteristic')\n",
    "plt.legend(loc=\"lower right\")\n",
    "plt.savefig('Log_ROC')\n",
    "plt.show()"
   ]
  },
  {
   "cell_type": "code",
   "execution_count": null,
   "metadata": {},
   "outputs": [],
   "source": []
  },
  {
   "cell_type": "code",
   "execution_count": null,
   "metadata": {},
   "outputs": [],
   "source": []
  },
  {
   "cell_type": "code",
   "execution_count": 60,
   "metadata": {},
   "outputs": [
    {
     "data": {
      "text/plain": [
       "<AxesSubplot:>"
      ]
     },
     "execution_count": 60,
     "metadata": {},
     "output_type": "execute_result"
    },
    {
     "data": {
      "image/png": "[encoded data removed]",
      "text/plain": [
       "<Figure size 432x288 with 1 Axes>"
      ]
     },
     "metadata": {
      "needs_background": "light"
     },
     "output_type": "display_data"
    }
   ],
   "source": [
    "pd.Series(model.feature_importances_, \n",
    "          index=X_train_smote.columns).nlargest(10).plot(kind='barh', \n",
    "                                                         color='r') "
   ]
  },
  {
   "cell_type": "code",
   "execution_count": 61,
   "metadata": {},
   "outputs": [
    {
     "name": "stderr",
     "output_type": "stream",
     "text": [
      "ntree_limit is deprecated, use `iteration_range` or model slicing instead.\n"
     ]
    },
    {
     "data": {
      "image/png": "[encoded data removed]",
      "text/plain": [
       "<Figure size 576x684 with 1 Axes>"
      ]
     },
     "metadata": {
      "needs_background": "light"
     },
     "output_type": "display_data"
    }
   ],
   "source": [
    "import shap\n",
    "explainer = shap.TreeExplainer(model)\n",
    "shap_values = explainer.shap_values(X_test)\n",
    "shap_obj = explainer(X_test)\n",
    "shap.summary_plot(shap_values, X_test, plot_type=\"bar\")"
   ]
  },
  {
   "cell_type": "code",
   "execution_count": null,
   "metadata": {},
   "outputs": [],
   "source": []
  },
  {
   "cell_type": "code",
   "execution_count": null,
   "metadata": {},
   "outputs": [],
   "source": []
  },
  {
   "cell_type": "code",
   "execution_count": 62,
   "metadata": {},
   "outputs": [
    {
     "data": {
      "image/png": "[encoded data removed]",
      "text/plain": [
       "<Figure size 576x396 with 2 Axes>"
      ]
     },
     "metadata": {
      "needs_background": "light"
     },
     "output_type": "display_data"
    }
   ],
   "source": [
    "shap.plots.beeswarm(shap_obj)"
   ]
  },
  {
   "cell_type": "code",
   "execution_count": null,
   "metadata": {},
   "outputs": [],
   "source": []
  },
  {
   "cell_type": "code",
   "execution_count": 63,
   "metadata": {
    "scrolled": true
   },
   "outputs": [
    {
     "data": {
      "text/plain": [
       "0.9598966489195114"
      ]
     },
     "execution_count": 63,
     "metadata": {},
     "output_type": "execute_result"
    }
   ],
   "source": [
    "model.score(X_train_smote, y_train_smote)"
   ]
  },
  {
   "cell_type": "code",
   "execution_count": 64,
   "metadata": {},
   "outputs": [
    {
     "data": {
      "text/plain": [
       "0.8960521950680084"
      ]
     },
     "execution_count": 64,
     "metadata": {},
     "output_type": "execute_result"
    }
   ],
   "source": [
    "model.score(X_test, y_test)"
   ]
  }
 ],
 "metadata": {
  "kernelspec": {
   "display_name": "Python 3",
   "language": "python",
   "name": "python3"
  },
  "language_info": {
   "codemirror_mode": {
    "name": "ipython",
    "version": 3
   },
   "file_extension": ".py",
   "mimetype": "text/x-python",
   "name": "python",
   "nbconvert_exporter": "python",
   "pygments_lexer": "ipython3",
   "version": "3.8.8"
  }
 },
 "nbformat": 4,
 "nbformat_minor": 2
}
